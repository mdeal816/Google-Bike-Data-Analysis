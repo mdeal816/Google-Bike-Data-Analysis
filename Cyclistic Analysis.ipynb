{
 "cells": [
  {
   "cell_type": "markdown",
   "metadata": {
    "scrolled": true
   },
   "source": [
    "# Table of Content\n",
    "\n",
    "1. [Get Data](#data)\n",
    "2. [Clean Data](#clean_data)\n",
    "3. [Analysis and Visualizations](#analysis)\n",
    "4. [Map Plot of Popular Stations](#map)\n",
    "\n"
   ]
  },
  {
   "cell_type": "code",
   "execution_count": 1,
   "metadata": {},
   "outputs": [],
   "source": [
    "import pandas as pd\n",
    "import numpy as np\n",
    "import matplotlib.pyplot as plt"
   ]
  },
  {
   "cell_type": "markdown",
   "metadata": {},
   "source": [
    "## Data  <a name=\"data\"></a>"
   ]
  },
  {
   "cell_type": "code",
   "execution_count": 2,
   "metadata": {},
   "outputs": [],
   "source": [
    "## Read in the 12 previous months of trip information\n",
    "\n",
    "df1 = pd.read_csv('202004-divvy-tripdata.csv')\n",
    "df2 = pd.read_csv('202005-divvy-tripdata.csv')\n",
    "df3 = pd.read_csv('202006-divvy-tripdata.csv')\n",
    "df4 = pd.read_csv('202007-divvy-tripdata.csv')\n",
    "df5 = pd.read_csv('202008-divvy-tripdata.csv')\n",
    "df6 = pd.read_csv('202009-divvy-tripdata.csv')\n",
    "df7 = pd.read_csv('202010-divvy-tripdata.csv')\n",
    "df8 = pd.read_csv('202011-divvy-tripdata.csv')\n",
    "df9 = pd.read_csv('202012-divvy-tripdata.csv')\n",
    "df10 = pd.read_csv('202101-divvy-tripdata.csv')\n",
    "df11 = pd.read_csv('202102-divvy-tripdata.csv')\n",
    "df12 = pd.read_csv('202103-divvy-tripdata.csv')"
   ]
  },
  {
   "cell_type": "code",
   "execution_count": 3,
   "metadata": {},
   "outputs": [],
   "source": [
    "frames = [df1,df2,df3,df4,df5,df6,df7,df8,df9,df10,df11,df12]"
   ]
  },
  {
   "cell_type": "code",
   "execution_count": 4,
   "metadata": {},
   "outputs": [],
   "source": [
    "df = pd.concat(frames)  ## Join all the dataframes into a single dataframe"
   ]
  },
  {
   "cell_type": "code",
   "execution_count": 5,
   "metadata": {},
   "outputs": [
    {
     "data": {
      "text/html": [
       "<div>\n",
       "<style scoped>\n",
       "    .dataframe tbody tr th:only-of-type {\n",
       "        vertical-align: middle;\n",
       "    }\n",
       "\n",
       "    .dataframe tbody tr th {\n",
       "        vertical-align: top;\n",
       "    }\n",
       "\n",
       "    .dataframe thead th {\n",
       "        text-align: right;\n",
       "    }\n",
       "</style>\n",
       "<table border=\"1\" class=\"dataframe\">\n",
       "  <thead>\n",
       "    <tr style=\"text-align: right;\">\n",
       "      <th></th>\n",
       "      <th>ride_id</th>\n",
       "      <th>rideable_type</th>\n",
       "      <th>started_at</th>\n",
       "      <th>ended_at</th>\n",
       "      <th>start_station_name</th>\n",
       "      <th>start_station_id</th>\n",
       "      <th>end_station_name</th>\n",
       "      <th>end_station_id</th>\n",
       "      <th>start_lat</th>\n",
       "      <th>start_lng</th>\n",
       "      <th>end_lat</th>\n",
       "      <th>end_lng</th>\n",
       "      <th>member_casual</th>\n",
       "    </tr>\n",
       "  </thead>\n",
       "  <tbody>\n",
       "    <tr>\n",
       "      <th>0</th>\n",
       "      <td>A847FADBBC638E45</td>\n",
       "      <td>docked_bike</td>\n",
       "      <td>2020-04-26 17:45:14</td>\n",
       "      <td>2020-04-26 18:12:03</td>\n",
       "      <td>Eckhart Park</td>\n",
       "      <td>86</td>\n",
       "      <td>Lincoln Ave &amp; Diversey Pkwy</td>\n",
       "      <td>152.0</td>\n",
       "      <td>41.8964</td>\n",
       "      <td>-87.6610</td>\n",
       "      <td>41.9322</td>\n",
       "      <td>-87.6586</td>\n",
       "      <td>member</td>\n",
       "    </tr>\n",
       "    <tr>\n",
       "      <th>1</th>\n",
       "      <td>5405B80E996FF60D</td>\n",
       "      <td>docked_bike</td>\n",
       "      <td>2020-04-17 17:08:54</td>\n",
       "      <td>2020-04-17 17:17:03</td>\n",
       "      <td>Drake Ave &amp; Fullerton Ave</td>\n",
       "      <td>503</td>\n",
       "      <td>Kosciuszko Park</td>\n",
       "      <td>499.0</td>\n",
       "      <td>41.9244</td>\n",
       "      <td>-87.7154</td>\n",
       "      <td>41.9306</td>\n",
       "      <td>-87.7238</td>\n",
       "      <td>member</td>\n",
       "    </tr>\n",
       "    <tr>\n",
       "      <th>2</th>\n",
       "      <td>5DD24A79A4E006F4</td>\n",
       "      <td>docked_bike</td>\n",
       "      <td>2020-04-01 17:54:13</td>\n",
       "      <td>2020-04-01 18:08:36</td>\n",
       "      <td>McClurg Ct &amp; Erie St</td>\n",
       "      <td>142</td>\n",
       "      <td>Indiana Ave &amp; Roosevelt Rd</td>\n",
       "      <td>255.0</td>\n",
       "      <td>41.8945</td>\n",
       "      <td>-87.6179</td>\n",
       "      <td>41.8679</td>\n",
       "      <td>-87.6230</td>\n",
       "      <td>member</td>\n",
       "    </tr>\n",
       "    <tr>\n",
       "      <th>3</th>\n",
       "      <td>2A59BBDF5CDBA725</td>\n",
       "      <td>docked_bike</td>\n",
       "      <td>2020-04-07 12:50:19</td>\n",
       "      <td>2020-04-07 13:02:31</td>\n",
       "      <td>California Ave &amp; Division St</td>\n",
       "      <td>216</td>\n",
       "      <td>Wood St &amp; Augusta Blvd</td>\n",
       "      <td>657.0</td>\n",
       "      <td>41.9030</td>\n",
       "      <td>-87.6975</td>\n",
       "      <td>41.8992</td>\n",
       "      <td>-87.6722</td>\n",
       "      <td>member</td>\n",
       "    </tr>\n",
       "    <tr>\n",
       "      <th>4</th>\n",
       "      <td>27AD306C119C6158</td>\n",
       "      <td>docked_bike</td>\n",
       "      <td>2020-04-18 10:22:59</td>\n",
       "      <td>2020-04-18 11:15:54</td>\n",
       "      <td>Rush St &amp; Hubbard St</td>\n",
       "      <td>125</td>\n",
       "      <td>Sheridan Rd &amp; Lawrence Ave</td>\n",
       "      <td>323.0</td>\n",
       "      <td>41.8902</td>\n",
       "      <td>-87.6262</td>\n",
       "      <td>41.9695</td>\n",
       "      <td>-87.6547</td>\n",
       "      <td>casual</td>\n",
       "    </tr>\n",
       "  </tbody>\n",
       "</table>\n",
       "</div>"
      ],
      "text/plain": [
       "            ride_id rideable_type           started_at             ended_at  \\\n",
       "0  A847FADBBC638E45   docked_bike  2020-04-26 17:45:14  2020-04-26 18:12:03   \n",
       "1  5405B80E996FF60D   docked_bike  2020-04-17 17:08:54  2020-04-17 17:17:03   \n",
       "2  5DD24A79A4E006F4   docked_bike  2020-04-01 17:54:13  2020-04-01 18:08:36   \n",
       "3  2A59BBDF5CDBA725   docked_bike  2020-04-07 12:50:19  2020-04-07 13:02:31   \n",
       "4  27AD306C119C6158   docked_bike  2020-04-18 10:22:59  2020-04-18 11:15:54   \n",
       "\n",
       "             start_station_name start_station_id             end_station_name  \\\n",
       "0                  Eckhart Park               86  Lincoln Ave & Diversey Pkwy   \n",
       "1     Drake Ave & Fullerton Ave              503              Kosciuszko Park   \n",
       "2          McClurg Ct & Erie St              142   Indiana Ave & Roosevelt Rd   \n",
       "3  California Ave & Division St              216       Wood St & Augusta Blvd   \n",
       "4          Rush St & Hubbard St              125   Sheridan Rd & Lawrence Ave   \n",
       "\n",
       "  end_station_id  start_lat  start_lng  end_lat  end_lng member_casual  \n",
       "0          152.0    41.8964   -87.6610  41.9322 -87.6586        member  \n",
       "1          499.0    41.9244   -87.7154  41.9306 -87.7238        member  \n",
       "2          255.0    41.8945   -87.6179  41.8679 -87.6230        member  \n",
       "3          657.0    41.9030   -87.6975  41.8992 -87.6722        member  \n",
       "4          323.0    41.8902   -87.6262  41.9695 -87.6547        casual  "
      ]
     },
     "execution_count": 5,
     "metadata": {},
     "output_type": "execute_result"
    }
   ],
   "source": [
    "df.head()"
   ]
  },
  {
   "cell_type": "code",
   "execution_count": 6,
   "metadata": {},
   "outputs": [
    {
     "data": {
      "text/html": [
       "<div>\n",
       "<style scoped>\n",
       "    .dataframe tbody tr th:only-of-type {\n",
       "        vertical-align: middle;\n",
       "    }\n",
       "\n",
       "    .dataframe tbody tr th {\n",
       "        vertical-align: top;\n",
       "    }\n",
       "\n",
       "    .dataframe thead th {\n",
       "        text-align: right;\n",
       "    }\n",
       "</style>\n",
       "<table border=\"1\" class=\"dataframe\">\n",
       "  <thead>\n",
       "    <tr style=\"text-align: right;\">\n",
       "      <th></th>\n",
       "      <th>ride_id</th>\n",
       "      <th>rideable_type</th>\n",
       "      <th>started_at</th>\n",
       "      <th>ended_at</th>\n",
       "      <th>start_station_name</th>\n",
       "      <th>start_station_id</th>\n",
       "      <th>end_station_name</th>\n",
       "      <th>end_station_id</th>\n",
       "      <th>start_lat</th>\n",
       "      <th>start_lng</th>\n",
       "      <th>end_lat</th>\n",
       "      <th>end_lng</th>\n",
       "      <th>member_casual</th>\n",
       "    </tr>\n",
       "  </thead>\n",
       "  <tbody>\n",
       "    <tr>\n",
       "      <th>84771</th>\n",
       "      <td>200E9CDFC5685AA0</td>\n",
       "      <td>docked_bike</td>\n",
       "      <td>2020-04-16 16:10:16</td>\n",
       "      <td>2020-04-16 16:23:11</td>\n",
       "      <td>Dearborn Pkwy &amp; Delaware Pl</td>\n",
       "      <td>140</td>\n",
       "      <td>Dearborn Pkwy &amp; Delaware Pl</td>\n",
       "      <td>140.0</td>\n",
       "      <td>41.8990</td>\n",
       "      <td>-87.6299</td>\n",
       "      <td>41.8990</td>\n",
       "      <td>-87.6299</td>\n",
       "      <td>member</td>\n",
       "    </tr>\n",
       "    <tr>\n",
       "      <th>84772</th>\n",
       "      <td>F58A8F2ABCB5D95B</td>\n",
       "      <td>docked_bike</td>\n",
       "      <td>2020-04-30 17:56:12</td>\n",
       "      <td>2020-04-30 18:15:21</td>\n",
       "      <td>Kimbark Ave &amp; 53rd St</td>\n",
       "      <td>322</td>\n",
       "      <td>Cottage Grove Ave &amp; 51st St</td>\n",
       "      <td>351.0</td>\n",
       "      <td>41.7996</td>\n",
       "      <td>-87.5947</td>\n",
       "      <td>41.8030</td>\n",
       "      <td>-87.6066</td>\n",
       "      <td>casual</td>\n",
       "    </tr>\n",
       "    <tr>\n",
       "      <th>84773</th>\n",
       "      <td>A3754693A80E4913</td>\n",
       "      <td>docked_bike</td>\n",
       "      <td>2020-04-24 19:57:33</td>\n",
       "      <td>2020-04-24 21:50:43</td>\n",
       "      <td>Sedgwick St &amp; Schiller St</td>\n",
       "      <td>236</td>\n",
       "      <td>Wells St &amp; Elm St</td>\n",
       "      <td>182.0</td>\n",
       "      <td>41.9076</td>\n",
       "      <td>-87.6386</td>\n",
       "      <td>41.9032</td>\n",
       "      <td>-87.6343</td>\n",
       "      <td>casual</td>\n",
       "    </tr>\n",
       "    <tr>\n",
       "      <th>84774</th>\n",
       "      <td>D610CABB67F7B744</td>\n",
       "      <td>docked_bike</td>\n",
       "      <td>2020-04-02 17:59:55</td>\n",
       "      <td>2020-04-02 18:42:26</td>\n",
       "      <td>Damen Ave &amp; Charleston St</td>\n",
       "      <td>310</td>\n",
       "      <td>Damen Ave &amp; Charleston St</td>\n",
       "      <td>310.0</td>\n",
       "      <td>41.9201</td>\n",
       "      <td>-87.6779</td>\n",
       "      <td>41.9201</td>\n",
       "      <td>-87.6779</td>\n",
       "      <td>casual</td>\n",
       "    </tr>\n",
       "    <tr>\n",
       "      <th>84775</th>\n",
       "      <td>79634521ABE4CF69</td>\n",
       "      <td>docked_bike</td>\n",
       "      <td>2020-04-04 01:31:27</td>\n",
       "      <td>2020-04-04 01:37:27</td>\n",
       "      <td>Clybourn Ave &amp; Division St</td>\n",
       "      <td>138</td>\n",
       "      <td>Clybourn Ave &amp; Division St</td>\n",
       "      <td>138.0</td>\n",
       "      <td>41.9046</td>\n",
       "      <td>-87.6406</td>\n",
       "      <td>41.9046</td>\n",
       "      <td>-87.6406</td>\n",
       "      <td>casual</td>\n",
       "    </tr>\n",
       "  </tbody>\n",
       "</table>\n",
       "</div>"
      ],
      "text/plain": [
       "                ride_id rideable_type           started_at  \\\n",
       "84771  200E9CDFC5685AA0   docked_bike  2020-04-16 16:10:16   \n",
       "84772  F58A8F2ABCB5D95B   docked_bike  2020-04-30 17:56:12   \n",
       "84773  A3754693A80E4913   docked_bike  2020-04-24 19:57:33   \n",
       "84774  D610CABB67F7B744   docked_bike  2020-04-02 17:59:55   \n",
       "84775  79634521ABE4CF69   docked_bike  2020-04-04 01:31:27   \n",
       "\n",
       "                  ended_at           start_station_name  start_station_id  \\\n",
       "84771  2020-04-16 16:23:11  Dearborn Pkwy & Delaware Pl               140   \n",
       "84772  2020-04-30 18:15:21        Kimbark Ave & 53rd St               322   \n",
       "84773  2020-04-24 21:50:43    Sedgwick St & Schiller St               236   \n",
       "84774  2020-04-02 18:42:26    Damen Ave & Charleston St               310   \n",
       "84775  2020-04-04 01:37:27   Clybourn Ave & Division St               138   \n",
       "\n",
       "                  end_station_name  end_station_id  start_lat  start_lng  \\\n",
       "84771  Dearborn Pkwy & Delaware Pl           140.0    41.8990   -87.6299   \n",
       "84772  Cottage Grove Ave & 51st St           351.0    41.7996   -87.5947   \n",
       "84773            Wells St & Elm St           182.0    41.9076   -87.6386   \n",
       "84774    Damen Ave & Charleston St           310.0    41.9201   -87.6779   \n",
       "84775   Clybourn Ave & Division St           138.0    41.9046   -87.6406   \n",
       "\n",
       "       end_lat  end_lng member_casual  \n",
       "84771  41.8990 -87.6299        member  \n",
       "84772  41.8030 -87.6066        casual  \n",
       "84773  41.9032 -87.6343        casual  \n",
       "84774  41.9201 -87.6779        casual  \n",
       "84775  41.9046 -87.6406        casual  "
      ]
     },
     "execution_count": 6,
     "metadata": {},
     "output_type": "execute_result"
    }
   ],
   "source": [
    "df1.tail()"
   ]
  },
  {
   "cell_type": "code",
   "execution_count": 7,
   "metadata": {},
   "outputs": [],
   "source": [
    "import gc"
   ]
  },
  {
   "cell_type": "code",
   "execution_count": 8,
   "metadata": {},
   "outputs": [],
   "source": [
    "# Clean up the individual dataframes to free up memory\n",
    "\n",
    "del frames\n",
    "gc.collect()\n",
    "frames = pd.DataFrame()"
   ]
  },
  {
   "cell_type": "code",
   "execution_count": 9,
   "metadata": {},
   "outputs": [
    {
     "name": "stdout",
     "output_type": "stream",
     "text": [
      "<class 'pandas.core.frame.DataFrame'>\n",
      "Int64Index: 3489748 entries, 0 to 228495\n",
      "Data columns (total 13 columns):\n",
      " #   Column              Non-Null Count    Dtype  \n",
      "---  ------              --------------    -----  \n",
      " 0   ride_id             3489748 non-null  object \n",
      " 1   rideable_type       3489748 non-null  object \n",
      " 2   started_at          3489748 non-null  object \n",
      " 3   ended_at            3489748 non-null  object \n",
      " 4   start_station_name  3367573 non-null  object \n",
      " 5   start_station_id    3366947 non-null  object \n",
      " 6   end_station_name    3346506 non-null  object \n",
      " 7   end_station_id      3346045 non-null  object \n",
      " 8   start_lat           3489748 non-null  float64\n",
      " 9   start_lng           3489748 non-null  float64\n",
      " 10  end_lat             3485010 non-null  float64\n",
      " 11  end_lng             3485010 non-null  float64\n",
      " 12  member_casual       3489748 non-null  object \n",
      "dtypes: float64(4), object(9)\n",
      "memory usage: 372.7+ MB\n"
     ]
    }
   ],
   "source": [
    "df.info(show_counts=True)"
   ]
  },
  {
   "cell_type": "markdown",
   "metadata": {},
   "source": [
    "## Clean Data  <a name=\"clean_data\"></a>"
   ]
  },
  {
   "cell_type": "code",
   "execution_count": 10,
   "metadata": {},
   "outputs": [],
   "source": [
    "df.reset_index(inplace=True)"
   ]
  },
  {
   "cell_type": "code",
   "execution_count": 11,
   "metadata": {},
   "outputs": [],
   "source": [
    "# Convert the 'started_at' and 'ended_at' fields to datetime for efficency and so \n",
    "# that more data engineering can occur as needed.\n",
    "\n",
    "df[['started_at', 'ended_at']] = df[['started_at', 'ended_at']].apply(pd.to_datetime)"
   ]
  },
  {
   "cell_type": "code",
   "execution_count": 12,
   "metadata": {},
   "outputs": [
    {
     "name": "stdout",
     "output_type": "stream",
     "text": [
      "<class 'pandas.core.frame.DataFrame'>\n",
      "RangeIndex: 3489748 entries, 0 to 3489747\n",
      "Data columns (total 14 columns):\n",
      " #   Column              Dtype         \n",
      "---  ------              -----         \n",
      " 0   index               int64         \n",
      " 1   ride_id             object        \n",
      " 2   rideable_type       object        \n",
      " 3   started_at          datetime64[ns]\n",
      " 4   ended_at            datetime64[ns]\n",
      " 5   start_station_name  object        \n",
      " 6   start_station_id    object        \n",
      " 7   end_station_name    object        \n",
      " 8   end_station_id      object        \n",
      " 9   start_lat           float64       \n",
      " 10  start_lng           float64       \n",
      " 11  end_lat             float64       \n",
      " 12  end_lng             float64       \n",
      " 13  member_casual       object        \n",
      "dtypes: datetime64[ns](2), float64(4), int64(1), object(7)\n",
      "memory usage: 372.7+ MB\n"
     ]
    }
   ],
   "source": [
    "df.info()"
   ]
  },
  {
   "cell_type": "code",
   "execution_count": 13,
   "metadata": {},
   "outputs": [],
   "source": [
    "import datetime"
   ]
  },
  {
   "cell_type": "code",
   "execution_count": 14,
   "metadata": {},
   "outputs": [],
   "source": [
    "# Create a new field, 'duration', for the dataframe for use later. The field is set in hours.\n",
    "\n",
    "df['duration'] = df.ended_at - df.started_at\n",
    "df['duration'] = df['duration']/np.timedelta64(1, 'h')"
   ]
  },
  {
   "cell_type": "code",
   "execution_count": 15,
   "metadata": {},
   "outputs": [
    {
     "data": {
      "text/html": [
       "<div>\n",
       "<style scoped>\n",
       "    .dataframe tbody tr th:only-of-type {\n",
       "        vertical-align: middle;\n",
       "    }\n",
       "\n",
       "    .dataframe tbody tr th {\n",
       "        vertical-align: top;\n",
       "    }\n",
       "\n",
       "    .dataframe thead th {\n",
       "        text-align: right;\n",
       "    }\n",
       "</style>\n",
       "<table border=\"1\" class=\"dataframe\">\n",
       "  <thead>\n",
       "    <tr style=\"text-align: right;\">\n",
       "      <th></th>\n",
       "      <th>index</th>\n",
       "      <th>ride_id</th>\n",
       "      <th>rideable_type</th>\n",
       "      <th>started_at</th>\n",
       "      <th>ended_at</th>\n",
       "      <th>start_station_name</th>\n",
       "      <th>start_station_id</th>\n",
       "      <th>end_station_name</th>\n",
       "      <th>end_station_id</th>\n",
       "      <th>start_lat</th>\n",
       "      <th>start_lng</th>\n",
       "      <th>end_lat</th>\n",
       "      <th>end_lng</th>\n",
       "      <th>member_casual</th>\n",
       "      <th>duration</th>\n",
       "    </tr>\n",
       "  </thead>\n",
       "  <tbody>\n",
       "    <tr>\n",
       "      <th>0</th>\n",
       "      <td>0</td>\n",
       "      <td>A847FADBBC638E45</td>\n",
       "      <td>docked_bike</td>\n",
       "      <td>2020-04-26 17:45:14</td>\n",
       "      <td>2020-04-26 18:12:03</td>\n",
       "      <td>Eckhart Park</td>\n",
       "      <td>86</td>\n",
       "      <td>Lincoln Ave &amp; Diversey Pkwy</td>\n",
       "      <td>152.0</td>\n",
       "      <td>41.8964</td>\n",
       "      <td>-87.6610</td>\n",
       "      <td>41.9322</td>\n",
       "      <td>-87.6586</td>\n",
       "      <td>member</td>\n",
       "      <td>0.446944</td>\n",
       "    </tr>\n",
       "    <tr>\n",
       "      <th>1</th>\n",
       "      <td>1</td>\n",
       "      <td>5405B80E996FF60D</td>\n",
       "      <td>docked_bike</td>\n",
       "      <td>2020-04-17 17:08:54</td>\n",
       "      <td>2020-04-17 17:17:03</td>\n",
       "      <td>Drake Ave &amp; Fullerton Ave</td>\n",
       "      <td>503</td>\n",
       "      <td>Kosciuszko Park</td>\n",
       "      <td>499.0</td>\n",
       "      <td>41.9244</td>\n",
       "      <td>-87.7154</td>\n",
       "      <td>41.9306</td>\n",
       "      <td>-87.7238</td>\n",
       "      <td>member</td>\n",
       "      <td>0.135833</td>\n",
       "    </tr>\n",
       "    <tr>\n",
       "      <th>2</th>\n",
       "      <td>2</td>\n",
       "      <td>5DD24A79A4E006F4</td>\n",
       "      <td>docked_bike</td>\n",
       "      <td>2020-04-01 17:54:13</td>\n",
       "      <td>2020-04-01 18:08:36</td>\n",
       "      <td>McClurg Ct &amp; Erie St</td>\n",
       "      <td>142</td>\n",
       "      <td>Indiana Ave &amp; Roosevelt Rd</td>\n",
       "      <td>255.0</td>\n",
       "      <td>41.8945</td>\n",
       "      <td>-87.6179</td>\n",
       "      <td>41.8679</td>\n",
       "      <td>-87.6230</td>\n",
       "      <td>member</td>\n",
       "      <td>0.239722</td>\n",
       "    </tr>\n",
       "    <tr>\n",
       "      <th>3</th>\n",
       "      <td>3</td>\n",
       "      <td>2A59BBDF5CDBA725</td>\n",
       "      <td>docked_bike</td>\n",
       "      <td>2020-04-07 12:50:19</td>\n",
       "      <td>2020-04-07 13:02:31</td>\n",
       "      <td>California Ave &amp; Division St</td>\n",
       "      <td>216</td>\n",
       "      <td>Wood St &amp; Augusta Blvd</td>\n",
       "      <td>657.0</td>\n",
       "      <td>41.9030</td>\n",
       "      <td>-87.6975</td>\n",
       "      <td>41.8992</td>\n",
       "      <td>-87.6722</td>\n",
       "      <td>member</td>\n",
       "      <td>0.203333</td>\n",
       "    </tr>\n",
       "    <tr>\n",
       "      <th>4</th>\n",
       "      <td>4</td>\n",
       "      <td>27AD306C119C6158</td>\n",
       "      <td>docked_bike</td>\n",
       "      <td>2020-04-18 10:22:59</td>\n",
       "      <td>2020-04-18 11:15:54</td>\n",
       "      <td>Rush St &amp; Hubbard St</td>\n",
       "      <td>125</td>\n",
       "      <td>Sheridan Rd &amp; Lawrence Ave</td>\n",
       "      <td>323.0</td>\n",
       "      <td>41.8902</td>\n",
       "      <td>-87.6262</td>\n",
       "      <td>41.9695</td>\n",
       "      <td>-87.6547</td>\n",
       "      <td>casual</td>\n",
       "      <td>0.881944</td>\n",
       "    </tr>\n",
       "  </tbody>\n",
       "</table>\n",
       "</div>"
      ],
      "text/plain": [
       "   index           ride_id rideable_type          started_at  \\\n",
       "0      0  A847FADBBC638E45   docked_bike 2020-04-26 17:45:14   \n",
       "1      1  5405B80E996FF60D   docked_bike 2020-04-17 17:08:54   \n",
       "2      2  5DD24A79A4E006F4   docked_bike 2020-04-01 17:54:13   \n",
       "3      3  2A59BBDF5CDBA725   docked_bike 2020-04-07 12:50:19   \n",
       "4      4  27AD306C119C6158   docked_bike 2020-04-18 10:22:59   \n",
       "\n",
       "             ended_at            start_station_name start_station_id  \\\n",
       "0 2020-04-26 18:12:03                  Eckhart Park               86   \n",
       "1 2020-04-17 17:17:03     Drake Ave & Fullerton Ave              503   \n",
       "2 2020-04-01 18:08:36          McClurg Ct & Erie St              142   \n",
       "3 2020-04-07 13:02:31  California Ave & Division St              216   \n",
       "4 2020-04-18 11:15:54          Rush St & Hubbard St              125   \n",
       "\n",
       "              end_station_name end_station_id  start_lat  start_lng  end_lat  \\\n",
       "0  Lincoln Ave & Diversey Pkwy          152.0    41.8964   -87.6610  41.9322   \n",
       "1              Kosciuszko Park          499.0    41.9244   -87.7154  41.9306   \n",
       "2   Indiana Ave & Roosevelt Rd          255.0    41.8945   -87.6179  41.8679   \n",
       "3       Wood St & Augusta Blvd          657.0    41.9030   -87.6975  41.8992   \n",
       "4   Sheridan Rd & Lawrence Ave          323.0    41.8902   -87.6262  41.9695   \n",
       "\n",
       "   end_lng member_casual  duration  \n",
       "0 -87.6586        member  0.446944  \n",
       "1 -87.7238        member  0.135833  \n",
       "2 -87.6230        member  0.239722  \n",
       "3 -87.6722        member  0.203333  \n",
       "4 -87.6547        casual  0.881944  "
      ]
     },
     "execution_count": 15,
     "metadata": {},
     "output_type": "execute_result"
    }
   ],
   "source": [
    "df.head()"
   ]
  },
  {
   "cell_type": "code",
   "execution_count": 16,
   "metadata": {},
   "outputs": [
    {
     "data": {
      "text/html": [
       "<div>\n",
       "<style scoped>\n",
       "    .dataframe tbody tr th:only-of-type {\n",
       "        vertical-align: middle;\n",
       "    }\n",
       "\n",
       "    .dataframe tbody tr th {\n",
       "        vertical-align: top;\n",
       "    }\n",
       "\n",
       "    .dataframe thead th {\n",
       "        text-align: right;\n",
       "    }\n",
       "</style>\n",
       "<table border=\"1\" class=\"dataframe\">\n",
       "  <thead>\n",
       "    <tr style=\"text-align: right;\">\n",
       "      <th></th>\n",
       "      <th>started_at</th>\n",
       "      <th>ended_at</th>\n",
       "      <th>duration</th>\n",
       "    </tr>\n",
       "  </thead>\n",
       "  <tbody>\n",
       "    <tr>\n",
       "      <th>2422</th>\n",
       "      <td>2020-04-27 17:20:30</td>\n",
       "      <td>2020-04-27 17:20:18</td>\n",
       "      <td>-0.003333</td>\n",
       "    </tr>\n",
       "    <tr>\n",
       "      <th>2504</th>\n",
       "      <td>2020-04-20 16:51:18</td>\n",
       "      <td>2020-04-20 16:51:05</td>\n",
       "      <td>-0.003611</td>\n",
       "    </tr>\n",
       "    <tr>\n",
       "      <th>3136</th>\n",
       "      <td>2020-04-12 19:09:54</td>\n",
       "      <td>2020-04-12 19:09:40</td>\n",
       "      <td>-0.003889</td>\n",
       "    </tr>\n",
       "    <tr>\n",
       "      <th>3542</th>\n",
       "      <td>2020-04-29 17:37:11</td>\n",
       "      <td>2020-04-29 17:37:07</td>\n",
       "      <td>-0.001111</td>\n",
       "    </tr>\n",
       "    <tr>\n",
       "      <th>8212</th>\n",
       "      <td>2020-04-05 15:46:12</td>\n",
       "      <td>2020-04-05 15:46:11</td>\n",
       "      <td>-0.000278</td>\n",
       "    </tr>\n",
       "    <tr>\n",
       "      <th>...</th>\n",
       "      <td>...</td>\n",
       "      <td>...</td>\n",
       "      <td>...</td>\n",
       "    </tr>\n",
       "    <tr>\n",
       "      <th>3114590</th>\n",
       "      <td>2020-12-15 12:02:17</td>\n",
       "      <td>2020-11-25 18:03:18</td>\n",
       "      <td>-473.983056</td>\n",
       "    </tr>\n",
       "    <tr>\n",
       "      <th>3121388</th>\n",
       "      <td>2021-01-09 15:42:45</td>\n",
       "      <td>2021-01-09 15:41:02</td>\n",
       "      <td>-0.028611</td>\n",
       "    </tr>\n",
       "    <tr>\n",
       "      <th>3150548</th>\n",
       "      <td>2021-01-06 18:33:12</td>\n",
       "      <td>2021-01-06 18:31:07</td>\n",
       "      <td>-0.034722</td>\n",
       "    </tr>\n",
       "    <tr>\n",
       "      <th>3300569</th>\n",
       "      <td>2021-03-29 15:41:21</td>\n",
       "      <td>2021-03-29 15:41:20</td>\n",
       "      <td>-0.000278</td>\n",
       "    </tr>\n",
       "    <tr>\n",
       "      <th>3382082</th>\n",
       "      <td>2021-03-13 18:02:58</td>\n",
       "      <td>2021-03-13 18:02:57</td>\n",
       "      <td>-0.000278</td>\n",
       "    </tr>\n",
       "  </tbody>\n",
       "</table>\n",
       "<p>10552 rows × 3 columns</p>\n",
       "</div>"
      ],
      "text/plain": [
       "                 started_at            ended_at    duration\n",
       "2422    2020-04-27 17:20:30 2020-04-27 17:20:18   -0.003333\n",
       "2504    2020-04-20 16:51:18 2020-04-20 16:51:05   -0.003611\n",
       "3136    2020-04-12 19:09:54 2020-04-12 19:09:40   -0.003889\n",
       "3542    2020-04-29 17:37:11 2020-04-29 17:37:07   -0.001111\n",
       "8212    2020-04-05 15:46:12 2020-04-05 15:46:11   -0.000278\n",
       "...                     ...                 ...         ...\n",
       "3114590 2020-12-15 12:02:17 2020-11-25 18:03:18 -473.983056\n",
       "3121388 2021-01-09 15:42:45 2021-01-09 15:41:02   -0.028611\n",
       "3150548 2021-01-06 18:33:12 2021-01-06 18:31:07   -0.034722\n",
       "3300569 2021-03-29 15:41:21 2021-03-29 15:41:20   -0.000278\n",
       "3382082 2021-03-13 18:02:58 2021-03-13 18:02:57   -0.000278\n",
       "\n",
       "[10552 rows x 3 columns]"
      ]
     },
     "execution_count": 16,
     "metadata": {},
     "output_type": "execute_result"
    }
   ],
   "source": [
    "# Check for bad data in stared_at and ended_at by looking at duration that is negative\n",
    "# \n",
    "\n",
    "x=df[(df.duration < 0)].index\n",
    "df.loc[x, ['started_at', 'ended_at','duration']]"
   ]
  },
  {
   "cell_type": "code",
   "execution_count": 17,
   "metadata": {},
   "outputs": [],
   "source": [
    "# Delete the 10552 rows that have significant start - end discrepancies\n",
    "\n",
    "df.drop(labels = x, inplace=True)\n",
    "df.reset_index(drop=True, inplace=True)"
   ]
  },
  {
   "cell_type": "code",
   "execution_count": 18,
   "metadata": {},
   "outputs": [
    {
     "name": "stdout",
     "output_type": "stream",
     "text": [
      "<class 'pandas.core.frame.DataFrame'>\n",
      "RangeIndex: 3479196 entries, 0 to 3479195\n",
      "Data columns (total 15 columns):\n",
      " #   Column              Dtype         \n",
      "---  ------              -----         \n",
      " 0   index               int64         \n",
      " 1   ride_id             object        \n",
      " 2   rideable_type       object        \n",
      " 3   started_at          datetime64[ns]\n",
      " 4   ended_at            datetime64[ns]\n",
      " 5   start_station_name  object        \n",
      " 6   start_station_id    object        \n",
      " 7   end_station_name    object        \n",
      " 8   end_station_id      object        \n",
      " 9   start_lat           float64       \n",
      " 10  start_lng           float64       \n",
      " 11  end_lat             float64       \n",
      " 12  end_lng             float64       \n",
      " 13  member_casual       object        \n",
      " 14  duration            float64       \n",
      "dtypes: datetime64[ns](2), float64(5), int64(1), object(7)\n",
      "memory usage: 398.2+ MB\n"
     ]
    }
   ],
   "source": [
    "df.info()"
   ]
  },
  {
   "cell_type": "code",
   "execution_count": 19,
   "metadata": {},
   "outputs": [
    {
     "data": {
      "text/plain": [
       "index                      0\n",
       "ride_id                    0\n",
       "rideable_type              0\n",
       "started_at                 0\n",
       "ended_at                   0\n",
       "start_station_name    122128\n",
       "start_station_id      122754\n",
       "end_station_name      143158\n",
       "end_station_id        143619\n",
       "start_lat                  0\n",
       "start_lng                  0\n",
       "end_lat                 4712\n",
       "end_lng                 4712\n",
       "member_casual              0\n",
       "duration                   0\n",
       "dtype: int64"
      ]
     },
     "execution_count": 19,
     "metadata": {},
     "output_type": "execute_result"
    }
   ],
   "source": [
    "## Are there any missing values and what columns are they in\n",
    "# The missing data is in the start and end station information and in the latitude and longitude data.\n",
    "\n",
    "df.isnull().sum()"
   ]
  },
  {
   "cell_type": "code",
   "execution_count": 20,
   "metadata": {},
   "outputs": [
    {
     "data": {
      "text/plain": [
       "541083"
      ]
     },
     "execution_count": 20,
     "metadata": {},
     "output_type": "execute_result"
    }
   ],
   "source": [
    "df.isnull().sum().sum()"
   ]
  },
  {
   "cell_type": "code",
   "execution_count": 21,
   "metadata": {},
   "outputs": [
    {
     "data": {
      "image/png": "[encoded data removed]",
      "text/plain": [
       "<Figure size 576x288 with 1 Axes>"
      ]
     },
     "metadata": {
      "needs_background": "light"
     },
     "output_type": "display_data"
    }
   ],
   "source": [
    "df[df.end_station_name.isnull()].started_at.hist(figsize=(8,4),bins=12)\n",
    "plt.title('Histogram of NaN in end_lat and end_lng rows in dataset');\n"
   ]
  },
  {
   "cell_type": "code",
   "execution_count": 22,
   "metadata": {},
   "outputs": [
    {
     "data": {
      "image/png": "[encoded data removed]",
      "text/plain": [
       "<Figure size 576x288 with 1 Axes>"
      ]
     },
     "metadata": {
      "needs_background": "light"
     },
     "output_type": "display_data"
    }
   ],
   "source": [
    "## What is the distribution of the missing end locations based on the start datetime of trip\n",
    "df[df.end_lat.isnull()].started_at.hist(figsize=(8,4),bins=12)\n",
    "plt.title('Histogram of NaN in Start_at datetime rows in dataset');\n"
   ]
  },
  {
   "cell_type": "markdown",
   "metadata": {},
   "source": [
    "##### The histograms show us that the missing data is scattered throughout the dataset. The missing data represents less than 6% of the total data available and will be dropped."
   ]
  },
  {
   "cell_type": "code",
   "execution_count": 23,
   "metadata": {},
   "outputs": [],
   "source": [
    "df.dropna(inplace=True)"
   ]
  },
  {
   "cell_type": "code",
   "execution_count": 24,
   "metadata": {},
   "outputs": [],
   "source": [
    "df.reset_index(drop= True, inplace=True)"
   ]
  },
  {
   "cell_type": "code",
   "execution_count": 25,
   "metadata": {},
   "outputs": [
    {
     "name": "stdout",
     "output_type": "stream",
     "text": [
      "<class 'pandas.core.frame.DataFrame'>\n",
      "RangeIndex: 3284237 entries, 0 to 3284236\n",
      "Data columns (total 15 columns):\n",
      " #   Column              Dtype         \n",
      "---  ------              -----         \n",
      " 0   index               int64         \n",
      " 1   ride_id             object        \n",
      " 2   rideable_type       object        \n",
      " 3   started_at          datetime64[ns]\n",
      " 4   ended_at            datetime64[ns]\n",
      " 5   start_station_name  object        \n",
      " 6   start_station_id    object        \n",
      " 7   end_station_name    object        \n",
      " 8   end_station_id      object        \n",
      " 9   start_lat           float64       \n",
      " 10  start_lng           float64       \n",
      " 11  end_lat             float64       \n",
      " 12  end_lng             float64       \n",
      " 13  member_casual       object        \n",
      " 14  duration            float64       \n",
      "dtypes: datetime64[ns](2), float64(5), int64(1), object(7)\n",
      "memory usage: 375.9+ MB\n"
     ]
    }
   ],
   "source": [
    "df.info()"
   ]
  },
  {
   "cell_type": "code",
   "execution_count": 26,
   "metadata": {},
   "outputs": [],
   "source": [
    "from geopy.distance import geodesic"
   ]
  },
  {
   "cell_type": "code",
   "execution_count": 27,
   "metadata": {},
   "outputs": [],
   "source": [
    "# Create a new field that shows distance (in a straight line) between the \n",
    "# start station and the end station. This will serve as an estimate of the distance the user rode.\n",
    "\n",
    "df['distance'] = np.zeros((len(df),1))"
   ]
  },
  {
   "cell_type": "code",
   "execution_count": 28,
   "metadata": {},
   "outputs": [],
   "source": [
    "def distance_calc(dataframe):\n",
    "    distance_list = []\n",
    "    for row in df.itertuples():\n",
    "        \n",
    "        distance_list.append(round(geodesic((row.start_lat, row.start_lng), (row.end_lat, row.end_lng)).miles, 5))\n",
    "        \n",
    "    df['distance'] = distance_list  \n",
    "       "
   ]
  },
  {
   "cell_type": "code",
   "execution_count": 29,
   "metadata": {},
   "outputs": [],
   "source": [
    "distance_calc(df)"
   ]
  },
  {
   "cell_type": "code",
   "execution_count": 30,
   "metadata": {},
   "outputs": [
    {
     "data": {
      "text/plain": [
       "index                 0\n",
       "ride_id               0\n",
       "rideable_type         0\n",
       "started_at            0\n",
       "ended_at              0\n",
       "start_station_name    0\n",
       "start_station_id      0\n",
       "end_station_name      0\n",
       "end_station_id        0\n",
       "start_lat             0\n",
       "start_lng             0\n",
       "end_lat               0\n",
       "end_lng               0\n",
       "member_casual         0\n",
       "duration              0\n",
       "distance              0\n",
       "dtype: int64"
      ]
     },
     "execution_count": 30,
     "metadata": {},
     "output_type": "execute_result"
    }
   ],
   "source": [
    "df.isna().sum()"
   ]
  },
  {
   "cell_type": "code",
   "execution_count": 31,
   "metadata": {},
   "outputs": [
    {
     "name": "stdout",
     "output_type": "stream",
     "text": [
      "<class 'pandas.core.frame.DataFrame'>\n",
      "RangeIndex: 3284237 entries, 0 to 3284236\n",
      "Data columns (total 16 columns):\n",
      " #   Column              Non-Null Count    Dtype         \n",
      "---  ------              --------------    -----         \n",
      " 0   index               3284237 non-null  int64         \n",
      " 1   ride_id             3284237 non-null  object        \n",
      " 2   rideable_type       3284237 non-null  object        \n",
      " 3   started_at          3284237 non-null  datetime64[ns]\n",
      " 4   ended_at            3284237 non-null  datetime64[ns]\n",
      " 5   start_station_name  3284237 non-null  object        \n",
      " 6   start_station_id    3284237 non-null  object        \n",
      " 7   end_station_name    3284237 non-null  object        \n",
      " 8   end_station_id      3284237 non-null  object        \n",
      " 9   start_lat           3284237 non-null  float64       \n",
      " 10  start_lng           3284237 non-null  float64       \n",
      " 11  end_lat             3284237 non-null  float64       \n",
      " 12  end_lng             3284237 non-null  float64       \n",
      " 13  member_casual       3284237 non-null  object        \n",
      " 14  duration            3284237 non-null  float64       \n",
      " 15  distance            3284237 non-null  float64       \n",
      "dtypes: datetime64[ns](2), float64(6), int64(1), object(7)\n",
      "memory usage: 400.9+ MB\n"
     ]
    }
   ],
   "source": [
    "df.info(show_counts=True)"
   ]
  },
  {
   "cell_type": "code",
   "execution_count": 32,
   "metadata": {},
   "outputs": [],
   "source": [
    "## Create more data fields to compare usage and patterns between members and casual users\n",
    "\n",
    "df['start_day_of_week'] = df.started_at.dt.weekday\n",
    "df['start_month'] = df.started_at.dt.month\n",
    "df['hour'] = df.started_at.dt.hour"
   ]
  },
  {
   "cell_type": "code",
   "execution_count": 33,
   "metadata": {},
   "outputs": [],
   "source": [
    "day_of_week = ['Monday','Tuesday','Wednesday','Thursday','Friday','Saturday','Sunday']\n",
    "\n",
    "df_group = df.groupby('member_casual')"
   ]
  },
  {
   "cell_type": "code",
   "execution_count": 34,
   "metadata": {},
   "outputs": [
    {
     "data": {
      "text/plain": [
       "member_casual\n",
       "casual    1348018\n",
       "member    1936219\n",
       "Name: ride_id, dtype: int64"
      ]
     },
     "execution_count": 34,
     "metadata": {},
     "output_type": "execute_result"
    }
   ],
   "source": [
    "df_group.ride_id.count()"
   ]
  },
  {
   "cell_type": "markdown",
   "metadata": {},
   "source": [
    "## Analysis and Visualizations  <a name=\"analysis\"></a>"
   ]
  },
  {
   "cell_type": "code",
   "execution_count": 35,
   "metadata": {},
   "outputs": [
    {
     "name": "stdout",
     "output_type": "stream",
     "text": [
      "Casual riders make up 41.05% of total rides\n",
      "Member riders make up 58.95% of total rides\n"
     ]
    }
   ],
   "source": [
    "# Calculate the percent each type of rider makes of total\n",
    "\n",
    "print('Casual riders make up','{:.2%}'.format(df[df.member_casual=='casual'].ride_id.count() / df.ride_id.count()),'of total rides')\n",
    "print('Member riders make up','{:.2%}'.format(df[df.member_casual=='member'].ride_id.count() / df.ride_id.count()),'of total rides')"
   ]
  },
  {
   "cell_type": "markdown",
   "metadata": {},
   "source": [
    "The members made up almost 59% of the total rides taken over the last 12 months"
   ]
  },
  {
   "cell_type": "code",
   "execution_count": 36,
   "metadata": {
    "scrolled": true
   },
   "outputs": [
    {
     "data": {
      "image/png": "[encoded data removed]",
      "text/plain": [
       "<Figure size 576x288 with 1 Axes>"
      ]
     },
     "metadata": {
      "needs_background": "light"
     },
     "output_type": "display_data"
    }
   ],
   "source": [
    "df_group.start_station_name.count().plot.bar(figsize=(8,4))\n",
    "plt.title('Number of rides - members vs casual riders', size=14)\n",
    "plt.ylabel('count (in millions)')\n",
    "plt.grid(True)"
   ]
  },
  {
   "cell_type": "code",
   "execution_count": 37,
   "metadata": {
    "collapsed": true
   },
   "outputs": [
    {
     "name": "stdout",
     "output_type": "stream",
     "text": [
      "0    142042\n",
      "1    136218\n",
      "2    148352\n",
      "3    156177\n",
      "4    196451\n",
      "5    319017\n",
      "6    249761\n",
      "Name: start_day_of_week, dtype: int64\n",
      "0    251905\n",
      "1    268223\n",
      "2    288390\n",
      "3    283731\n",
      "4    288897\n",
      "5    304608\n",
      "6    250465\n",
      "Name: start_day_of_week, dtype: int64\n"
     ]
    }
   ],
   "source": [
    "## Compare the day of week rides start between members and casual riders\n",
    "print(df[df.member_casual == 'casual'].start_day_of_week.value_counts(sort=False))\n",
    "print(df[df.member_casual == 'member'].start_day_of_week.value_counts(sort=False))"
   ]
  },
  {
   "cell_type": "markdown",
   "metadata": {},
   "source": [
    "I want to understand if members made more rider on every day of the week.\n"
   ]
  },
  {
   "cell_type": "code",
   "execution_count": 80,
   "metadata": {},
   "outputs": [
    {
     "data": {
      "image/png": "[encoded data removed]",
      "text/plain": [
       "<Figure size 576x360 with 2 Axes>"
      ]
     },
     "metadata": {
      "needs_background": "light"
     },
     "output_type": "display_data"
    }
   ],
   "source": [
    "day_of_week = ['Monday','Tuesday','Wednesday','Thursday','Friday','Saturday','Sunday']\n",
    "\n",
    "fig, (ax1, ax2) = plt.subplots(1,2, sharey=True, figsize=(8,5))\n",
    "\n",
    "ax1.bar(day_of_week, df[df.member_casual == 'casual']['start_day_of_week'].value_counts(sort=False))\n",
    "ax1.tick_params(axis='x', rotation=45)\n",
    "ax1.grid(b=True, axis='y')\n",
    "ax1.set_title('Casual')\n",
    "\n",
    "ax2.bar(day_of_week, df[df.member_casual == 'member']['start_day_of_week'].value_counts(sort=False))\n",
    "ax2.tick_params(axis='x', rotation=45)\n",
    "ax2.set_title('Members')\n",
    "ax2.grid(b=True, axis='y')\n",
    "\n",
    "\n",
    "plt.suptitle('Number of rides by day of week', size=14)\n",
    "plt.tight_layout()"
   ]
  },
  {
   "cell_type": "markdown",
   "metadata": {},
   "source": [
    "We see that the members were much more consistent during the work week and weekend while casual riders used the service much more frequently on the weekends."
   ]
  },
  {
   "cell_type": "code",
   "execution_count": 39,
   "metadata": {
    "collapsed": true
   },
   "outputs": [
    {
     "data": {
      "text/plain": [
       "member_casual  hour\n",
       "casual         0        20955\n",
       "               1        13029\n",
       "               2         7155\n",
       "               3         3762\n",
       "               4         3064\n",
       "               5         4923\n",
       "               6        12110\n",
       "               7        21755\n",
       "               8        29789\n",
       "               9        38325\n",
       "               10       55096\n",
       "               11       76235\n",
       "               12       92724\n",
       "               13      100794\n",
       "               14      106951\n",
       "               15      112562\n",
       "               16      119366\n",
       "               17      132735\n",
       "               18      120115\n",
       "               19       91953\n",
       "               20       64384\n",
       "               21       46252\n",
       "               22       41018\n",
       "               23       32966\n",
       "member         0        10818\n",
       "               1         6043\n",
       "               2         3198\n",
       "               3         2016\n",
       "               4         3278\n",
       "               5        16446\n",
       "               6        54162\n",
       "               7        90599\n",
       "               8        98003\n",
       "               9        82461\n",
       "               10       87244\n",
       "               11      109004\n",
       "               12      128265\n",
       "               13      127446\n",
       "               14      127421\n",
       "               15      141869\n",
       "               16      170650\n",
       "               17      204592\n",
       "               18      177828\n",
       "               19      123248\n",
       "               20       75028\n",
       "               21       44495\n",
       "               22       31083\n",
       "               23       21022\n",
       "Name: start_station_name, dtype: int64"
      ]
     },
     "execution_count": 39,
     "metadata": {},
     "output_type": "execute_result"
    }
   ],
   "source": [
    "df.groupby(['member_casual','hour']).start_station_name.count()"
   ]
  },
  {
   "cell_type": "markdown",
   "metadata": {},
   "source": [
    "Now I want to see the usage by time of day (on an hourly baisis)"
   ]
  },
  {
   "cell_type": "code",
   "execution_count": 40,
   "metadata": {},
   "outputs": [
    {
     "data": {
      "image/png": "[encoded data removed]",
      "text/plain": [
       "<Figure size 576x432 with 2 Axes>"
      ]
     },
     "metadata": {
      "needs_background": "light"
     },
     "output_type": "display_data"
    }
   ],
   "source": [
    "# Chart of usage by hour of day\n",
    "\n",
    "fig, (ax1, ax2) = plt.subplots(2,1, sharey=True, sharex=True, figsize=(8,6))\n",
    "\n",
    "ax1.bar(range(1,25), df[df.member_casual == 'casual']['hour'].value_counts(sort=False))\n",
    "ax1.tick_params(axis='x', rotation=45)\n",
    "ax1.grid(b=True, axis='y')\n",
    "ax1.set(ylabel='count')\n",
    "ax1.set_title('Casual')\n",
    "\n",
    "ax2.bar(range(1,25), df[df.member_casual == 'member']['hour'].value_counts(sort=False))\n",
    "ax2.tick_params(axis='x', rotation=0)\n",
    "ax2.set_title('Members')\n",
    "ax2.grid(b=True, axis='y')\n",
    "ax2.set(ylabel='count')\n",
    "\n",
    "\n",
    "plt.suptitle('Number of rides by hour of day', size=14)\n",
    "plt.tight_layout()"
   ]
  },
  {
   "cell_type": "markdown",
   "metadata": {},
   "source": [
    "There is a difference in when members and casual riders use the service. We see members showing two spikes in usage, morning and evening. Casual riders show on one peak in the evening."
   ]
  },
  {
   "cell_type": "markdown",
   "metadata": {},
   "source": [
    "Next I wanted to look at this hourly pattern by day."
   ]
  },
  {
   "cell_type": "code",
   "execution_count": 41,
   "metadata": {},
   "outputs": [
    {
     "data": {
      "image/png": "[encoded data removed]",
      "text/plain": [
       "<Figure size 720x432 with 2 Axes>"
      ]
     },
     "metadata": {
      "needs_background": "light"
     },
     "output_type": "display_data"
    }
   ],
   "source": [
    "fig, (ax1, ax2) = plt.subplots(2,1, sharey=True, sharex=True, figsize=(10,6))\n",
    "\n",
    "ax1.bar(range(1,169),df[df.member_casual == 'casual'].groupby(['start_day_of_week','hour']).hour.count())\n",
    "ax1.tick_params(axis='x', rotation=45)\n",
    "ax1.grid(b=True, axis='y')\n",
    "ax1.set(ylabel='count')\n",
    "ax1.set_title('Casual')\n",
    "\n",
    "ax2.bar(range(1,169),df[df.member_casual == 'member'].groupby(['start_day_of_week','hour']).hour.count())\n",
    "ax2.tick_params(axis='x', rotation=45)\n",
    "ax2.set_xticks(range(1,169,12))\n",
    "ax2.set_xticklabels(['0\\nMonday', '12\\nMonday','0\\nTuesday','12\\nTuesday','0\\nWednesday','12\\nWednesday','0\\nThursday','12\\nThursday','0\\nFriday','12\\nFriday','0\\nSaturday','12\\nSaturday','0\\nSunday','12\\nSunday'])\n",
    "ax2.set_title('Members')\n",
    "ax2.grid(b=True, axis='y')\n",
    "ax2.set(ylabel='count')\n",
    "\n",
    "\n",
    "plt.suptitle('Number of rides by day of week by hour', size=14)\n",
    "plt.tight_layout()"
   ]
  },
  {
   "cell_type": "markdown",
   "metadata": {},
   "source": [
    "We see that during the work week, the two peak pattern is present for member users. However, on the weekends, the usage pattern more resembles the pattern of casual riders. "
   ]
  },
  {
   "cell_type": "code",
   "execution_count": null,
   "metadata": {},
   "outputs": [],
   "source": []
  },
  {
   "cell_type": "code",
   "execution_count": 42,
   "metadata": {
    "collapsed": true
   },
   "outputs": [
    {
     "data": {
      "text/plain": [
       "member_casual  start_month\n",
       "casual         1               14690\n",
       "               2                8613\n",
       "               3               75641\n",
       "               4               23570\n",
       "               5               86699\n",
       "               6              154342\n",
       "               7              268125\n",
       "               8              281987\n",
       "               9              214681\n",
       "               10             122328\n",
       "               11              72850\n",
       "               12              24492\n",
       "member         1               68819\n",
       "               2               34383\n",
       "               3              130048\n",
       "               4               61056\n",
       "               5              113083\n",
       "               6              187727\n",
       "               7              280556\n",
       "               8              323759\n",
       "               9              283582\n",
       "               10             215072\n",
       "               11             149085\n",
       "               12              89049\n",
       "Name: start_month, dtype: int64"
      ]
     },
     "execution_count": 42,
     "metadata": {},
     "output_type": "execute_result"
    }
   ],
   "source": [
    "df_group.start_month.value_counts(sort=False)"
   ]
  },
  {
   "cell_type": "code",
   "execution_count": 82,
   "metadata": {},
   "outputs": [
    {
     "ename": "SyntaxError",
     "evalue": "invalid syntax (<ipython-input-82-e701351a3bc0>, line 1)",
     "output_type": "error",
     "traceback": [
      "\u001b[1;36m  File \u001b[1;32m\"<ipython-input-82-e701351a3bc0>\"\u001b[1;36m, line \u001b[1;32m1\u001b[0m\n\u001b[1;33m    I wanted to check seasonality in ridership.\u001b[0m\n\u001b[1;37m           ^\u001b[0m\n\u001b[1;31mSyntaxError\u001b[0m\u001b[1;31m:\u001b[0m invalid syntax\n"
     ]
    }
   ],
   "source": [
    "I wanted to check seasonality in ridership."
   ]
  },
  {
   "cell_type": "code",
   "execution_count": 43,
   "metadata": {},
   "outputs": [
    {
     "data": {
      "image/png": "[encoded data removed]",
      "text/plain": [
       "<Figure size 648x360 with 2 Axes>"
      ]
     },
     "metadata": {
      "needs_background": "light"
     },
     "output_type": "display_data"
    }
   ],
   "source": [
    "month = ['1','2','3','4','5','6','7','8','9','10','11','12']\n",
    "\n",
    "fig, (ax1, ax2) = plt.subplots(1,2, sharey=True, figsize=(9,5))\n",
    "\n",
    "ax1.bar(month, df[df.member_casual=='casual']['start_month'].value_counts(sort=False))\n",
    "ax1.tick_params(axis='x')\n",
    "ax1.set_title('Casual')\n",
    "ax1.grid(b=True, axis='y')\n",
    "ax1.set(ylabel='count', xlabel='month')\n",
    "\n",
    "ax2.bar(month, df[df.member_casual=='member']['start_month'].value_counts(sort=False))\n",
    "ax2.tick_params(axis='x')\n",
    "ax2.set_title('Member')\n",
    "ax2.grid(b=True, axis='y')\n",
    "ax2.set(xlabel='month')\n",
    "\n",
    "plt.suptitle('Number of rides by month', size=14)\n",
    "plt.tight_layout();"
   ]
  },
  {
   "cell_type": "markdown",
   "metadata": {},
   "source": [
    "As expected, there are more rides during the warmer months. Both casual riders and members show a very similar seasonality patter."
   ]
  },
  {
   "cell_type": "code",
   "execution_count": 44,
   "metadata": {
    "collapsed": true
   },
   "outputs": [
    {
     "data": {
      "text/plain": [
       "member_casual\n",
       "casual    0.757541\n",
       "member    0.265553\n",
       "Name: duration, dtype: float64"
      ]
     },
     "execution_count": 44,
     "metadata": {},
     "output_type": "execute_result"
    }
   ],
   "source": [
    "df_group.duration.mean()"
   ]
  },
  {
   "cell_type": "markdown",
   "metadata": {},
   "source": [
    "How long do the different riders' trips last?"
   ]
  },
  {
   "cell_type": "code",
   "execution_count": 45,
   "metadata": {},
   "outputs": [
    {
     "data": {
      "image/png": "[encoded data removed]",
      "text/plain": [
       "<Figure size 576x288 with 1 Axes>"
      ]
     },
     "metadata": {
      "needs_background": "light"
     },
     "output_type": "display_data"
    }
   ],
   "source": [
    "## Compare duration of rides between members and casual riders\n",
    "df_group.duration.mean().plot.bar(figsize=(8,4))\n",
    "#plt.ylabel('hours')\n",
    "plt.title('Average duration of rides by status', size=14)\n",
    "plt.ylabel('Hours')\n",
    "plt.grid(True);"
   ]
  },
  {
   "cell_type": "markdown",
   "metadata": {},
   "source": [
    "We see that on average, casual riders' trips last about 3/4 of an hour while members average less than 20 minutes."
   ]
  },
  {
   "cell_type": "code",
   "execution_count": 46,
   "metadata": {
    "collapsed": true
   },
   "outputs": [
    {
     "data": {
      "text/plain": [
       "member_casual\n",
       "casual    1.341786\n",
       "member    1.404484\n",
       "Name: distance, dtype: float64"
      ]
     },
     "execution_count": 46,
     "metadata": {},
     "output_type": "execute_result"
    }
   ],
   "source": [
    "df_group.distance.mean()"
   ]
  },
  {
   "cell_type": "markdown",
   "metadata": {},
   "source": [
    "Next, I compared how far the average ride was for casual riders and memeber."
   ]
  },
  {
   "cell_type": "code",
   "execution_count": 47,
   "metadata": {
    "scrolled": false
   },
   "outputs": [
    {
     "data": {
      "image/png": "[encoded data removed]",
      "text/plain": [
       "<Figure size 576x288 with 1 Axes>"
      ]
     },
     "metadata": {
      "needs_background": "light"
     },
     "output_type": "display_data"
    }
   ],
   "source": [
    "## Compare distance of rides between members and casual riders\n",
    "df_group.distance.mean().plot.bar(figsize=(8,4))\n",
    "#plt.ylabel('hours')\n",
    "plt.title('Average distance of rides by status', size=14)\n",
    "plt.ylabel('miles')\n",
    "plt.grid(True);"
   ]
  },
  {
   "cell_type": "markdown",
   "metadata": {},
   "source": [
    "Interestlingly, the average distance riden is about the same for each group. \n",
    "\n",
    "Since time was very different but distance was not, I wanted to see how this looked by day."
   ]
  },
  {
   "cell_type": "code",
   "execution_count": 48,
   "metadata": {
    "collapsed": true
   },
   "outputs": [
    {
     "data": {
      "text/plain": [
       "member_casual  start_day_of_week\n",
       "casual         0                    0.758119\n",
       "               1                    0.682119\n",
       "               2                    0.681386\n",
       "               3                    0.726584\n",
       "               4                    0.720921\n",
       "               5                    0.788460\n",
       "               6                    0.852251\n",
       "member         0                    0.251565\n",
       "               1                    0.249519\n",
       "               2                    0.250792\n",
       "               3                    0.250501\n",
       "               4                    0.259446\n",
       "               5                    0.294726\n",
       "               6                    0.302399\n",
       "Name: duration, dtype: float64"
      ]
     },
     "execution_count": 48,
     "metadata": {},
     "output_type": "execute_result"
    }
   ],
   "source": [
    "df.groupby(['member_casual', 'start_day_of_week']).duration.mean()"
   ]
  },
  {
   "cell_type": "code",
   "execution_count": 49,
   "metadata": {
    "scrolled": false
   },
   "outputs": [
    {
     "data": {
      "image/png": "[encoded data removed]",
      "text/plain": [
       "<Figure size 576x360 with 2 Axes>"
      ]
     },
     "metadata": {
      "needs_background": "light"
     },
     "output_type": "display_data"
    }
   ],
   "source": [
    "fig, (ax1, ax2) = plt.subplots(1,2, sharey=True, figsize=(8,5))\n",
    "\n",
    "ax1.bar(day_of_week, df[df.member_casual=='casual'].groupby('start_day_of_week')['duration'].mean())\n",
    "ax1.set_title('Casual')\n",
    "ax1.tick_params(axis='x', rotation=45)\n",
    "ax1.grid(b=True, axis='y')\n",
    "ax1.set(ylabel='hours')\n",
    "\n",
    "ax2.bar(day_of_week, df[df.member_casual=='member'].groupby('start_day_of_week')['duration'].mean())\n",
    "ax2.set_title('Member')\n",
    "ax2.tick_params(axis='x', rotation=45)\n",
    "ax2.grid(b=True, axis='y')\n",
    "\n",
    "plt.suptitle('Average duration of rides by day')\n",
    "plt.tight_layout()"
   ]
  },
  {
   "cell_type": "markdown",
   "metadata": {},
   "source": [
    "We see that casual riders consistently averaged longer ride times than members, regardless of the day of the week.\n"
   ]
  },
  {
   "cell_type": "code",
   "execution_count": 50,
   "metadata": {
    "collapsed": true
   },
   "outputs": [
    {
     "data": {
      "text/plain": [
       "member_casual  start_day_of_week\n",
       "casual         0                    1.260903\n",
       "               1                    1.293199\n",
       "               2                    1.317831\n",
       "               3                    1.319489\n",
       "               4                    1.350301\n",
       "               5                    1.425331\n",
       "               6                    1.329050\n",
       "member         0                    1.369796\n",
       "               1                    1.373450\n",
       "               2                    1.381660\n",
       "               3                    1.381141\n",
       "               4                    1.390533\n",
       "               5                    1.471882\n",
       "               6                    1.459450\n",
       "Name: distance, dtype: float64"
      ]
     },
     "execution_count": 50,
     "metadata": {},
     "output_type": "execute_result"
    }
   ],
   "source": [
    "df.groupby(['member_casual', 'start_day_of_week'])['distance'].mean()"
   ]
  },
  {
   "cell_type": "code",
   "execution_count": 51,
   "metadata": {
    "scrolled": false
   },
   "outputs": [
    {
     "data": {
      "image/png": "[encoded data removed]",
      "text/plain": [
       "<Figure size 576x360 with 2 Axes>"
      ]
     },
     "metadata": {
      "needs_background": "light"
     },
     "output_type": "display_data"
    }
   ],
   "source": [
    "fig, (ax1,ax2) = plt.subplots(1,2, sharey=True, figsize=(8,5))\n",
    "\n",
    "ax1.bar(day_of_week, df[df.member_casual=='casual'].groupby('start_day_of_week').distance.mean())\n",
    "ax1.set_title('Casual')\n",
    "ax1.grid(b=True,axis='y')\n",
    "ax1.tick_params(axis='x', rotation=45)\n",
    "ax1.set(ylabel='miles')\n",
    "\n",
    "ax2.bar(day_of_week, df[df.member_casual=='member'].groupby('start_day_of_week').distance.mean())\n",
    "ax2.set_title('Member')\n",
    "ax2.grid(b=True,axis='y')\n",
    "ax2.tick_params(axis='x', rotation=45)\n",
    "\n",
    "plt.suptitle('Average distance of rides')\n",
    "plt.tight_layout();"
   ]
  },
  {
   "cell_type": "markdown",
   "metadata": {},
   "source": [
    "Ane we see that the distance of rides was consistent by days of the week for both casual and member riders.\n",
    "\n",
    "This means that the average speed of member riders was faster than the average speed of casual riders."
   ]
  },
  {
   "cell_type": "code",
   "execution_count": null,
   "metadata": {},
   "outputs": [],
   "source": []
  },
  {
   "cell_type": "markdown",
   "metadata": {},
   "source": [
    "Next, I wanted to check the numbers on roundtrip rides. As seen below, only about 8.7% of the total rides started and ended at the same station. Of these trips, about 70% were made by casual riders."
   ]
  },
  {
   "cell_type": "code",
   "execution_count": 52,
   "metadata": {},
   "outputs": [
    {
     "name": "stdout",
     "output_type": "stream",
     "text": [
      "Total # of roundtrip rides 286,475\n",
      "Percent of total rides 8.72%\n"
     ]
    }
   ],
   "source": [
    "roundtrip = df[df.distance==0].ride_id.count()\n",
    "tot =len(df)\n",
    "print('Total # of roundtrip rides','{:,}'.format(roundtrip))\n",
    "print('Percent of total rides','{:.2%}'.format(roundtrip/tot))"
   ]
  },
  {
   "cell_type": "code",
   "execution_count": 53,
   "metadata": {
    "collapsed": true
   },
   "outputs": [
    {
     "data": {
      "text/plain": [
       "member_casual  member_casual\n",
       "casual         casual           200817\n",
       "member         member            85658\n",
       "Name: member_casual, dtype: int64"
      ]
     },
     "execution_count": 53,
     "metadata": {},
     "output_type": "execute_result"
    }
   ],
   "source": [
    "df[df.distance == 0].groupby('member_casual')['member_casual'].value_counts(sort=False)\n"
   ]
  },
  {
   "cell_type": "code",
   "execution_count": 54,
   "metadata": {},
   "outputs": [
    {
     "data": {
      "image/png": "[encoded data removed]",
      "text/plain": [
       "<Figure size 648x360 with 4 Axes>"
      ]
     },
     "metadata": {
      "needs_background": "light"
     },
     "output_type": "display_data"
    }
   ],
   "source": [
    "fig, (ax1, ax2) = plt.subplots(1,2, sharex=True, sharey=True, figsize=(9,5))\n",
    "\n",
    "ax1.bar(day_of_week, df[(df.distance == 0) & (df.member_casual == 'casual')].groupby('start_day_of_week')['start_day_of_week'].value_counts())\n",
    "ax1.set_title('Casual')\n",
    "ax1.grid(b=True, axis='y')\n",
    "ax1.tick_params(axis='x', rotation=45)\n",
    "ax1.set(ylabel='count')\n",
    "ax01 = ax1.twinx()\n",
    "ax01.plot(df[(df.distance == 0) & (df.member_casual == 'casual')].groupby('start_day_of_week')['duration'].mean(), c='r')\n",
    "ax01.set(ylabel='hours')\n",
    "ax01.set_ylim(0,1.3)\n",
    "\n",
    "ax2.bar(day_of_week, df[(df.distance == 0) & (df.member_casual == 'member')].groupby('start_day_of_week')['start_day_of_week'].value_counts())\n",
    "ax2.set_title('Member')\n",
    "ax2.grid(b=True, axis='y')\n",
    "ax2.tick_params(axis='x', rotation=45)\n",
    "ax02 = ax2.twinx()\n",
    "ax02.plot(df[(df.distance == 0) & (df.member_casual == 'member')].groupby('start_day_of_week')['duration'].mean(), c='r')\n",
    "ax02.set(ylabel='hours')\n",
    "ax02.set_ylim(0,1.3)\n",
    "\n",
    "plt.suptitle('Number of roundtrip rides and Average duration by day of week', size=14)\n",
    "plt.tight_layout();"
   ]
  },
  {
   "cell_type": "code",
   "execution_count": null,
   "metadata": {},
   "outputs": [],
   "source": []
  },
  {
   "cell_type": "markdown",
   "metadata": {},
   "source": [
    "The company offers three types of bikes to use. I wanted to see how these broke out by rider type."
   ]
  },
  {
   "cell_type": "code",
   "execution_count": 55,
   "metadata": {
    "collapsed": true
   },
   "outputs": [
    {
     "data": {
      "text/plain": [
       "member_casual  rideable_type\n",
       "casual         docked_bike      1111448\n",
       "               electric_bike     166138\n",
       "               classic_bike       70432\n",
       "member         docked_bike      1432527\n",
       "               electric_bike     255511\n",
       "               classic_bike      248181\n",
       "Name: rideable_type, dtype: int64"
      ]
     },
     "execution_count": 55,
     "metadata": {},
     "output_type": "execute_result"
    }
   ],
   "source": [
    "df_group.rideable_type.value_counts()"
   ]
  },
  {
   "cell_type": "code",
   "execution_count": 56,
   "metadata": {},
   "outputs": [
    {
     "data": {
      "image/png": "[encoded data removed]",
      "text/plain": [
       "<Figure size 576x360 with 2 Axes>"
      ]
     },
     "metadata": {
      "needs_background": "light"
     },
     "output_type": "display_data"
    }
   ],
   "source": [
    "ride_type = ['docked', 'electric', 'classic']\n",
    "fig, (ax1, ax2) = plt.subplots(1,2, sharey=True, figsize=(8,5))\n",
    "\n",
    "ax1.bar(ride_type ,df[df.member_casual == 'casual'].rideable_type.value_counts())\n",
    "ax1.set_title('Casual')\n",
    "ax1.grid(axis='y', b=True)\n",
    "ax1.set(ylabel='count (in M)')\n",
    "\n",
    "ax2.bar(ride_type ,df[df.member_casual == 'member'].rideable_type.value_counts())\n",
    "ax2.set_title('Member')\n",
    "ax2.grid(axis='y', b=True)\n",
    "\n",
    "plt.suptitle('Total number of rides by bike type', size=14)\n",
    "plt.tight_layout()"
   ]
  },
  {
   "cell_type": "markdown",
   "metadata": {},
   "source": [
    "For both casual riders and members, the predominant bike used was the docked."
   ]
  },
  {
   "cell_type": "code",
   "execution_count": 57,
   "metadata": {
    "collapsed": true
   },
   "outputs": [
    {
     "data": {
      "text/plain": [
       "member_casual  start_day_of_week  rideable_type\n",
       "casual         0                  classic_bike       8952\n",
       "                                  docked_bike      114447\n",
       "                                  electric_bike     18643\n",
       "               1                  classic_bike       8334\n",
       "                                  docked_bike      109036\n",
       "Name: ride_id, dtype: int64"
      ]
     },
     "execution_count": 57,
     "metadata": {},
     "output_type": "execute_result"
    }
   ],
   "source": [
    "df_rideable = df.groupby(['member_casual', 'start_day_of_week', 'rideable_type']).ride_id.count()\n",
    "df_rideable.head()"
   ]
  },
  {
   "cell_type": "markdown",
   "metadata": {},
   "source": [
    "Next, I wanted to see how day of week impacted bike type useage."
   ]
  },
  {
   "cell_type": "code",
   "execution_count": 58,
   "metadata": {
    "scrolled": true
   },
   "outputs": [
    {
     "data": {
      "image/png": "[encoded data removed]",
      "text/plain": [
       "<Figure size 648x288 with 2 Axes>"
      ]
     },
     "metadata": {
      "needs_background": "light"
     },
     "output_type": "display_data"
    }
   ],
   "source": [
    "df_casual = df_rideable.xs('casual').unstack()\n",
    "df_casual.index = day_of_week\n",
    "df_member = df_rideable.xs('member').unstack()\n",
    "df_member.index = day_of_week\n",
    "\n",
    "fig, (ax1, ax2) = plt.subplots(1,2, sharey=True, figsize=(9,4))\n",
    "\n",
    "ax1.plot(df_casual)\n",
    "ax1.set_title('Casual')\n",
    "ax1.grid(b=True, axis='y')\n",
    "ax1.tick_params(axis='x', rotation=45)\n",
    "ax1.set(ylabel='count')\n",
    "\n",
    "ax2.plot(df_member)\n",
    "ax2.set_title('Member')\n",
    "ax2.grid(b=True, axis='y')\n",
    "ax2.tick_params(axis='x', rotation=45)\n",
    "\n",
    "plt.legend(['classic', 'docked', 'electric'], bbox_to_anchor=(1,0.7,.5,0))\n",
    "plt.suptitle('Type of bike used by day of week', size=14)\n",
    "plt.tight_layout()"
   ]
  },
  {
   "cell_type": "markdown",
   "metadata": {},
   "source": [
    "We see that there is very little change based on the day of the week for electric and classic bike types. This consistency was true for both casual riders and members. The largest amount of variation day to day was shown in the docked bike type."
   ]
  },
  {
   "cell_type": "markdown",
   "metadata": {},
   "source": [
    "## Map Plot of Popular Stations <a name=\"map\"></a>"
   ]
  },
  {
   "cell_type": "code",
   "execution_count": 59,
   "metadata": {},
   "outputs": [],
   "source": [
    "top_25_cas = df[df.member_casual=='casual'].start_station_name.value_counts().head(25)"
   ]
  },
  {
   "cell_type": "code",
   "execution_count": 60,
   "metadata": {},
   "outputs": [],
   "source": [
    "top_25_mem = df[df.member_casual=='member'].start_station_name.value_counts().head(25)"
   ]
  },
  {
   "cell_type": "code",
   "execution_count": 61,
   "metadata": {
    "collapsed": true
   },
   "outputs": [
    {
     "data": {
      "text/plain": [
       "Streeter Dr & Grand Ave           25975\n",
       "Lake Shore Dr & Monroe St         20469\n",
       "Millennium Park                   19236\n",
       "Theater on the Lake               14837\n",
       "Indiana Ave & Roosevelt Rd        13488\n",
       "Michigan Ave & Oak St             13482\n",
       "Lake Shore Dr & North Blvd        13197\n",
       "Clark St & Elm St                 11819\n",
       "Michigan Ave & Lake St            11589\n",
       "Michigan Ave & Washington St      10566\n",
       "Clark St & Lincoln Ave            10042\n",
       "Buckingham Fountain                9965\n",
       "Wells St & Concord Ln              9878\n",
       "Clark St & Armitage Ave            9733\n",
       "Shedd Aquarium                     9721\n",
       "Michigan Ave & 8th St              9634\n",
       "Wabash Ave & Grand Ave             9632\n",
       "Columbus Dr & Randolph St          9332\n",
       "Wells St & Elm St                  9083\n",
       "Fairbanks Ct & Grand Ave           8928\n",
       "Lake Shore Dr & Wellington Ave     8695\n",
       "Wabash Ave & Roosevelt Rd          8685\n",
       "Wells St & Evergreen Ave           8681\n",
       "Lake Shore Dr & Belmont Ave        8666\n",
       "Lakeview Ave & Fullerton Pkwy      8481\n",
       "Name: start_station_name, dtype: int64"
      ]
     },
     "execution_count": 61,
     "metadata": {},
     "output_type": "execute_result"
    }
   ],
   "source": [
    "top_25_cas"
   ]
  },
  {
   "cell_type": "code",
   "execution_count": 62,
   "metadata": {},
   "outputs": [],
   "source": [
    "df_c=pd.DataFrame(top_25_cas)"
   ]
  },
  {
   "cell_type": "code",
   "execution_count": 63,
   "metadata": {},
   "outputs": [],
   "source": [
    "df_c.columns=['count']"
   ]
  },
  {
   "cell_type": "code",
   "execution_count": 64,
   "metadata": {},
   "outputs": [],
   "source": [
    "df_c = df_c.reset_index()"
   ]
  },
  {
   "cell_type": "code",
   "execution_count": 65,
   "metadata": {
    "collapsed": true
   },
   "outputs": [
    {
     "data": {
      "text/html": [
       "<div>\n",
       "<style scoped>\n",
       "    .dataframe tbody tr th:only-of-type {\n",
       "        vertical-align: middle;\n",
       "    }\n",
       "\n",
       "    .dataframe tbody tr th {\n",
       "        vertical-align: top;\n",
       "    }\n",
       "\n",
       "    .dataframe thead th {\n",
       "        text-align: right;\n",
       "    }\n",
       "</style>\n",
       "<table border=\"1\" class=\"dataframe\">\n",
       "  <thead>\n",
       "    <tr style=\"text-align: right;\">\n",
       "      <th></th>\n",
       "      <th>index</th>\n",
       "      <th>count</th>\n",
       "    </tr>\n",
       "  </thead>\n",
       "  <tbody>\n",
       "    <tr>\n",
       "      <th>0</th>\n",
       "      <td>Streeter Dr &amp; Grand Ave</td>\n",
       "      <td>25975</td>\n",
       "    </tr>\n",
       "    <tr>\n",
       "      <th>1</th>\n",
       "      <td>Lake Shore Dr &amp; Monroe St</td>\n",
       "      <td>20469</td>\n",
       "    </tr>\n",
       "    <tr>\n",
       "      <th>2</th>\n",
       "      <td>Millennium Park</td>\n",
       "      <td>19236</td>\n",
       "    </tr>\n",
       "    <tr>\n",
       "      <th>3</th>\n",
       "      <td>Theater on the Lake</td>\n",
       "      <td>14837</td>\n",
       "    </tr>\n",
       "    <tr>\n",
       "      <th>4</th>\n",
       "      <td>Indiana Ave &amp; Roosevelt Rd</td>\n",
       "      <td>13488</td>\n",
       "    </tr>\n",
       "    <tr>\n",
       "      <th>5</th>\n",
       "      <td>Michigan Ave &amp; Oak St</td>\n",
       "      <td>13482</td>\n",
       "    </tr>\n",
       "    <tr>\n",
       "      <th>6</th>\n",
       "      <td>Lake Shore Dr &amp; North Blvd</td>\n",
       "      <td>13197</td>\n",
       "    </tr>\n",
       "    <tr>\n",
       "      <th>7</th>\n",
       "      <td>Clark St &amp; Elm St</td>\n",
       "      <td>11819</td>\n",
       "    </tr>\n",
       "    <tr>\n",
       "      <th>8</th>\n",
       "      <td>Michigan Ave &amp; Lake St</td>\n",
       "      <td>11589</td>\n",
       "    </tr>\n",
       "    <tr>\n",
       "      <th>9</th>\n",
       "      <td>Michigan Ave &amp; Washington St</td>\n",
       "      <td>10566</td>\n",
       "    </tr>\n",
       "    <tr>\n",
       "      <th>10</th>\n",
       "      <td>Clark St &amp; Lincoln Ave</td>\n",
       "      <td>10042</td>\n",
       "    </tr>\n",
       "    <tr>\n",
       "      <th>11</th>\n",
       "      <td>Buckingham Fountain</td>\n",
       "      <td>9965</td>\n",
       "    </tr>\n",
       "    <tr>\n",
       "      <th>12</th>\n",
       "      <td>Wells St &amp; Concord Ln</td>\n",
       "      <td>9878</td>\n",
       "    </tr>\n",
       "    <tr>\n",
       "      <th>13</th>\n",
       "      <td>Clark St &amp; Armitage Ave</td>\n",
       "      <td>9733</td>\n",
       "    </tr>\n",
       "    <tr>\n",
       "      <th>14</th>\n",
       "      <td>Shedd Aquarium</td>\n",
       "      <td>9721</td>\n",
       "    </tr>\n",
       "    <tr>\n",
       "      <th>15</th>\n",
       "      <td>Michigan Ave &amp; 8th St</td>\n",
       "      <td>9634</td>\n",
       "    </tr>\n",
       "    <tr>\n",
       "      <th>16</th>\n",
       "      <td>Wabash Ave &amp; Grand Ave</td>\n",
       "      <td>9632</td>\n",
       "    </tr>\n",
       "    <tr>\n",
       "      <th>17</th>\n",
       "      <td>Columbus Dr &amp; Randolph St</td>\n",
       "      <td>9332</td>\n",
       "    </tr>\n",
       "    <tr>\n",
       "      <th>18</th>\n",
       "      <td>Wells St &amp; Elm St</td>\n",
       "      <td>9083</td>\n",
       "    </tr>\n",
       "    <tr>\n",
       "      <th>19</th>\n",
       "      <td>Fairbanks Ct &amp; Grand Ave</td>\n",
       "      <td>8928</td>\n",
       "    </tr>\n",
       "    <tr>\n",
       "      <th>20</th>\n",
       "      <td>Lake Shore Dr &amp; Wellington Ave</td>\n",
       "      <td>8695</td>\n",
       "    </tr>\n",
       "    <tr>\n",
       "      <th>21</th>\n",
       "      <td>Wabash Ave &amp; Roosevelt Rd</td>\n",
       "      <td>8685</td>\n",
       "    </tr>\n",
       "    <tr>\n",
       "      <th>22</th>\n",
       "      <td>Wells St &amp; Evergreen Ave</td>\n",
       "      <td>8681</td>\n",
       "    </tr>\n",
       "    <tr>\n",
       "      <th>23</th>\n",
       "      <td>Lake Shore Dr &amp; Belmont Ave</td>\n",
       "      <td>8666</td>\n",
       "    </tr>\n",
       "    <tr>\n",
       "      <th>24</th>\n",
       "      <td>Lakeview Ave &amp; Fullerton Pkwy</td>\n",
       "      <td>8481</td>\n",
       "    </tr>\n",
       "  </tbody>\n",
       "</table>\n",
       "</div>"
      ],
      "text/plain": [
       "                             index  count\n",
       "0          Streeter Dr & Grand Ave  25975\n",
       "1        Lake Shore Dr & Monroe St  20469\n",
       "2                  Millennium Park  19236\n",
       "3              Theater on the Lake  14837\n",
       "4       Indiana Ave & Roosevelt Rd  13488\n",
       "5            Michigan Ave & Oak St  13482\n",
       "6       Lake Shore Dr & North Blvd  13197\n",
       "7                Clark St & Elm St  11819\n",
       "8           Michigan Ave & Lake St  11589\n",
       "9     Michigan Ave & Washington St  10566\n",
       "10          Clark St & Lincoln Ave  10042\n",
       "11             Buckingham Fountain   9965\n",
       "12           Wells St & Concord Ln   9878\n",
       "13         Clark St & Armitage Ave   9733\n",
       "14                  Shedd Aquarium   9721\n",
       "15           Michigan Ave & 8th St   9634\n",
       "16          Wabash Ave & Grand Ave   9632\n",
       "17       Columbus Dr & Randolph St   9332\n",
       "18               Wells St & Elm St   9083\n",
       "19        Fairbanks Ct & Grand Ave   8928\n",
       "20  Lake Shore Dr & Wellington Ave   8695\n",
       "21       Wabash Ave & Roosevelt Rd   8685\n",
       "22        Wells St & Evergreen Ave   8681\n",
       "23     Lake Shore Dr & Belmont Ave   8666\n",
       "24   Lakeview Ave & Fullerton Pkwy   8481"
      ]
     },
     "execution_count": 65,
     "metadata": {},
     "output_type": "execute_result"
    }
   ],
   "source": [
    "df_c"
   ]
  },
  {
   "cell_type": "code",
   "execution_count": 66,
   "metadata": {
    "collapsed": true
   },
   "outputs": [
    {
     "data": {
      "text/plain": [
       "Clark St & Elm St                 20005\n",
       "Broadway & Barry Ave              15541\n",
       "St. Clair St & Erie St            15174\n",
       "Dearborn St & Erie St             15069\n",
       "Wells St & Concord Ln             14836\n",
       "Theater on the Lake               14516\n",
       "Kingsbury St & Kinzie St          14049\n",
       "Wells St & Huron St               13864\n",
       "Wells St & Elm St                 13815\n",
       "Clark St & Armitage Ave           13717\n",
       "Lake Shore Dr & North Blvd        13530\n",
       "Desplaines St & Kinzie St         13454\n",
       "Lake Shore Dr & Wellington Ave    12537\n",
       "Columbus Dr & Randolph St         12270\n",
       "Larrabee St & Webster Ave         12215\n",
       "Clark St & Schiller St            12076\n",
       "Clark St & Lincoln Ave            12046\n",
       "Broadway & Cornelia Ave           11908\n",
       "Dearborn Pkwy & Delaware Pl       11738\n",
       "Wabash Ave & Grand Ave            11547\n",
       "Wabash Ave & Roosevelt Rd         11485\n",
       "Kingsbury St & Erie St            11156\n",
       "Clark St & Drummond Pl            10986\n",
       "Broadway & Waveland Ave           10959\n",
       "Clark St & Wrightwood Ave         10818\n",
       "Name: start_station_name, dtype: int64"
      ]
     },
     "execution_count": 66,
     "metadata": {},
     "output_type": "execute_result"
    }
   ],
   "source": [
    "top_25_mem"
   ]
  },
  {
   "cell_type": "code",
   "execution_count": 67,
   "metadata": {},
   "outputs": [],
   "source": [
    "df_m=pd.DataFrame(top_25_mem)"
   ]
  },
  {
   "cell_type": "code",
   "execution_count": 68,
   "metadata": {},
   "outputs": [],
   "source": [
    "df_m.columns=['count']"
   ]
  },
  {
   "cell_type": "code",
   "execution_count": 69,
   "metadata": {},
   "outputs": [],
   "source": [
    "df_m = df_m.reset_index()"
   ]
  },
  {
   "cell_type": "code",
   "execution_count": 70,
   "metadata": {
    "collapsed": true
   },
   "outputs": [
    {
     "data": {
      "text/html": [
       "<div>\n",
       "<style scoped>\n",
       "    .dataframe tbody tr th:only-of-type {\n",
       "        vertical-align: middle;\n",
       "    }\n",
       "\n",
       "    .dataframe tbody tr th {\n",
       "        vertical-align: top;\n",
       "    }\n",
       "\n",
       "    .dataframe thead th {\n",
       "        text-align: right;\n",
       "    }\n",
       "</style>\n",
       "<table border=\"1\" class=\"dataframe\">\n",
       "  <thead>\n",
       "    <tr style=\"text-align: right;\">\n",
       "      <th></th>\n",
       "      <th>index</th>\n",
       "      <th>count</th>\n",
       "    </tr>\n",
       "  </thead>\n",
       "  <tbody>\n",
       "    <tr>\n",
       "      <th>0</th>\n",
       "      <td>Clark St &amp; Elm St</td>\n",
       "      <td>20005</td>\n",
       "    </tr>\n",
       "    <tr>\n",
       "      <th>1</th>\n",
       "      <td>Broadway &amp; Barry Ave</td>\n",
       "      <td>15541</td>\n",
       "    </tr>\n",
       "    <tr>\n",
       "      <th>2</th>\n",
       "      <td>St. Clair St &amp; Erie St</td>\n",
       "      <td>15174</td>\n",
       "    </tr>\n",
       "    <tr>\n",
       "      <th>3</th>\n",
       "      <td>Dearborn St &amp; Erie St</td>\n",
       "      <td>15069</td>\n",
       "    </tr>\n",
       "    <tr>\n",
       "      <th>4</th>\n",
       "      <td>Wells St &amp; Concord Ln</td>\n",
       "      <td>14836</td>\n",
       "    </tr>\n",
       "    <tr>\n",
       "      <th>5</th>\n",
       "      <td>Theater on the Lake</td>\n",
       "      <td>14516</td>\n",
       "    </tr>\n",
       "    <tr>\n",
       "      <th>6</th>\n",
       "      <td>Kingsbury St &amp; Kinzie St</td>\n",
       "      <td>14049</td>\n",
       "    </tr>\n",
       "    <tr>\n",
       "      <th>7</th>\n",
       "      <td>Wells St &amp; Huron St</td>\n",
       "      <td>13864</td>\n",
       "    </tr>\n",
       "    <tr>\n",
       "      <th>8</th>\n",
       "      <td>Wells St &amp; Elm St</td>\n",
       "      <td>13815</td>\n",
       "    </tr>\n",
       "    <tr>\n",
       "      <th>9</th>\n",
       "      <td>Clark St &amp; Armitage Ave</td>\n",
       "      <td>13717</td>\n",
       "    </tr>\n",
       "    <tr>\n",
       "      <th>10</th>\n",
       "      <td>Lake Shore Dr &amp; North Blvd</td>\n",
       "      <td>13530</td>\n",
       "    </tr>\n",
       "    <tr>\n",
       "      <th>11</th>\n",
       "      <td>Desplaines St &amp; Kinzie St</td>\n",
       "      <td>13454</td>\n",
       "    </tr>\n",
       "    <tr>\n",
       "      <th>12</th>\n",
       "      <td>Lake Shore Dr &amp; Wellington Ave</td>\n",
       "      <td>12537</td>\n",
       "    </tr>\n",
       "    <tr>\n",
       "      <th>13</th>\n",
       "      <td>Columbus Dr &amp; Randolph St</td>\n",
       "      <td>12270</td>\n",
       "    </tr>\n",
       "    <tr>\n",
       "      <th>14</th>\n",
       "      <td>Larrabee St &amp; Webster Ave</td>\n",
       "      <td>12215</td>\n",
       "    </tr>\n",
       "    <tr>\n",
       "      <th>15</th>\n",
       "      <td>Clark St &amp; Schiller St</td>\n",
       "      <td>12076</td>\n",
       "    </tr>\n",
       "    <tr>\n",
       "      <th>16</th>\n",
       "      <td>Clark St &amp; Lincoln Ave</td>\n",
       "      <td>12046</td>\n",
       "    </tr>\n",
       "    <tr>\n",
       "      <th>17</th>\n",
       "      <td>Broadway &amp; Cornelia Ave</td>\n",
       "      <td>11908</td>\n",
       "    </tr>\n",
       "    <tr>\n",
       "      <th>18</th>\n",
       "      <td>Dearborn Pkwy &amp; Delaware Pl</td>\n",
       "      <td>11738</td>\n",
       "    </tr>\n",
       "    <tr>\n",
       "      <th>19</th>\n",
       "      <td>Wabash Ave &amp; Grand Ave</td>\n",
       "      <td>11547</td>\n",
       "    </tr>\n",
       "    <tr>\n",
       "      <th>20</th>\n",
       "      <td>Wabash Ave &amp; Roosevelt Rd</td>\n",
       "      <td>11485</td>\n",
       "    </tr>\n",
       "    <tr>\n",
       "      <th>21</th>\n",
       "      <td>Kingsbury St &amp; Erie St</td>\n",
       "      <td>11156</td>\n",
       "    </tr>\n",
       "    <tr>\n",
       "      <th>22</th>\n",
       "      <td>Clark St &amp; Drummond Pl</td>\n",
       "      <td>10986</td>\n",
       "    </tr>\n",
       "    <tr>\n",
       "      <th>23</th>\n",
       "      <td>Broadway &amp; Waveland Ave</td>\n",
       "      <td>10959</td>\n",
       "    </tr>\n",
       "    <tr>\n",
       "      <th>24</th>\n",
       "      <td>Clark St &amp; Wrightwood Ave</td>\n",
       "      <td>10818</td>\n",
       "    </tr>\n",
       "  </tbody>\n",
       "</table>\n",
       "</div>"
      ],
      "text/plain": [
       "                             index  count\n",
       "0                Clark St & Elm St  20005\n",
       "1             Broadway & Barry Ave  15541\n",
       "2           St. Clair St & Erie St  15174\n",
       "3            Dearborn St & Erie St  15069\n",
       "4            Wells St & Concord Ln  14836\n",
       "5              Theater on the Lake  14516\n",
       "6         Kingsbury St & Kinzie St  14049\n",
       "7              Wells St & Huron St  13864\n",
       "8                Wells St & Elm St  13815\n",
       "9          Clark St & Armitage Ave  13717\n",
       "10      Lake Shore Dr & North Blvd  13530\n",
       "11       Desplaines St & Kinzie St  13454\n",
       "12  Lake Shore Dr & Wellington Ave  12537\n",
       "13       Columbus Dr & Randolph St  12270\n",
       "14       Larrabee St & Webster Ave  12215\n",
       "15          Clark St & Schiller St  12076\n",
       "16          Clark St & Lincoln Ave  12046\n",
       "17         Broadway & Cornelia Ave  11908\n",
       "18     Dearborn Pkwy & Delaware Pl  11738\n",
       "19          Wabash Ave & Grand Ave  11547\n",
       "20       Wabash Ave & Roosevelt Rd  11485\n",
       "21          Kingsbury St & Erie St  11156\n",
       "22          Clark St & Drummond Pl  10986\n",
       "23         Broadway & Waveland Ave  10959\n",
       "24       Clark St & Wrightwood Ave  10818"
      ]
     },
     "execution_count": 70,
     "metadata": {},
     "output_type": "execute_result"
    }
   ],
   "source": [
    "df_m"
   ]
  },
  {
   "cell_type": "code",
   "execution_count": 71,
   "metadata": {
    "collapsed": true
   },
   "outputs": [
    {
     "data": {
      "text/html": [
       "<div>\n",
       "<style scoped>\n",
       "    .dataframe tbody tr th:only-of-type {\n",
       "        vertical-align: middle;\n",
       "    }\n",
       "\n",
       "    .dataframe tbody tr th {\n",
       "        vertical-align: top;\n",
       "    }\n",
       "\n",
       "    .dataframe thead th {\n",
       "        text-align: right;\n",
       "    }\n",
       "</style>\n",
       "<table border=\"1\" class=\"dataframe\">\n",
       "  <thead>\n",
       "    <tr style=\"text-align: right;\">\n",
       "      <th></th>\n",
       "      <th>start_station_name</th>\n",
       "      <th>start_lat</th>\n",
       "      <th>start_lng</th>\n",
       "    </tr>\n",
       "  </thead>\n",
       "  <tbody>\n",
       "    <tr>\n",
       "      <th>0</th>\n",
       "      <td>2112 W Peterson Ave</td>\n",
       "      <td>41.991178</td>\n",
       "      <td>-87.683593</td>\n",
       "    </tr>\n",
       "    <tr>\n",
       "      <th>1</th>\n",
       "      <td>63rd St Beach</td>\n",
       "      <td>41.781016</td>\n",
       "      <td>-87.576120</td>\n",
       "    </tr>\n",
       "    <tr>\n",
       "      <th>2</th>\n",
       "      <td>900 W Harrison St</td>\n",
       "      <td>41.874754</td>\n",
       "      <td>-87.649807</td>\n",
       "    </tr>\n",
       "    <tr>\n",
       "      <th>3</th>\n",
       "      <td>Aberdeen St &amp; Jackson Blvd</td>\n",
       "      <td>41.877726</td>\n",
       "      <td>-87.654787</td>\n",
       "    </tr>\n",
       "    <tr>\n",
       "      <th>4</th>\n",
       "      <td>Aberdeen St &amp; Monroe St</td>\n",
       "      <td>41.880419</td>\n",
       "      <td>-87.655519</td>\n",
       "    </tr>\n",
       "    <tr>\n",
       "      <th>...</th>\n",
       "      <td>...</td>\n",
       "      <td>...</td>\n",
       "      <td>...</td>\n",
       "    </tr>\n",
       "    <tr>\n",
       "      <th>697</th>\n",
       "      <td>Wood St &amp; Taylor St (Temp)</td>\n",
       "      <td>41.869265</td>\n",
       "      <td>-87.673731</td>\n",
       "    </tr>\n",
       "    <tr>\n",
       "      <th>698</th>\n",
       "      <td>Woodlawn Ave &amp; 55th St</td>\n",
       "      <td>41.795264</td>\n",
       "      <td>-87.596471</td>\n",
       "    </tr>\n",
       "    <tr>\n",
       "      <th>699</th>\n",
       "      <td>Woodlawn Ave &amp; 75th St</td>\n",
       "      <td>41.759160</td>\n",
       "      <td>-87.595751</td>\n",
       "    </tr>\n",
       "    <tr>\n",
       "      <th>700</th>\n",
       "      <td>Woodlawn Ave &amp; Lake Park Ave</td>\n",
       "      <td>41.814093</td>\n",
       "      <td>-87.597005</td>\n",
       "    </tr>\n",
       "    <tr>\n",
       "      <th>701</th>\n",
       "      <td>Yates Blvd &amp; 75th St</td>\n",
       "      <td>41.758768</td>\n",
       "      <td>-87.566440</td>\n",
       "    </tr>\n",
       "  </tbody>\n",
       "</table>\n",
       "<p>702 rows × 3 columns</p>\n",
       "</div>"
      ],
      "text/plain": [
       "               start_station_name  start_lat  start_lng\n",
       "0             2112 W Peterson Ave  41.991178 -87.683593\n",
       "1                   63rd St Beach  41.781016 -87.576120\n",
       "2               900 W Harrison St  41.874754 -87.649807\n",
       "3      Aberdeen St & Jackson Blvd  41.877726 -87.654787\n",
       "4         Aberdeen St & Monroe St  41.880419 -87.655519\n",
       "..                            ...        ...        ...\n",
       "697    Wood St & Taylor St (Temp)  41.869265 -87.673731\n",
       "698        Woodlawn Ave & 55th St  41.795264 -87.596471\n",
       "699        Woodlawn Ave & 75th St  41.759160 -87.595751\n",
       "700  Woodlawn Ave & Lake Park Ave  41.814093 -87.597005\n",
       "701          Yates Blvd & 75th St  41.758768 -87.566440\n",
       "\n",
       "[702 rows x 3 columns]"
      ]
     },
     "execution_count": 71,
     "metadata": {},
     "output_type": "execute_result"
    }
   ],
   "source": [
    "stations = df.groupby('start_station_name')[['start_lat','start_lng']].last().reset_index()\n",
    "stations"
   ]
  },
  {
   "cell_type": "code",
   "execution_count": 72,
   "metadata": {},
   "outputs": [],
   "source": [
    "df_1c = pd.merge(df_c, stations, how='left', left_on='index', right_on='start_station_name').drop(columns='index')"
   ]
  },
  {
   "cell_type": "code",
   "execution_count": 73,
   "metadata": {
    "collapsed": true
   },
   "outputs": [
    {
     "data": {
      "text/html": [
       "<div>\n",
       "<style scoped>\n",
       "    .dataframe tbody tr th:only-of-type {\n",
       "        vertical-align: middle;\n",
       "    }\n",
       "\n",
       "    .dataframe tbody tr th {\n",
       "        vertical-align: top;\n",
       "    }\n",
       "\n",
       "    .dataframe thead th {\n",
       "        text-align: right;\n",
       "    }\n",
       "</style>\n",
       "<table border=\"1\" class=\"dataframe\">\n",
       "  <thead>\n",
       "    <tr style=\"text-align: right;\">\n",
       "      <th></th>\n",
       "      <th>count</th>\n",
       "      <th>start_station_name</th>\n",
       "      <th>start_lat</th>\n",
       "      <th>start_lng</th>\n",
       "    </tr>\n",
       "  </thead>\n",
       "  <tbody>\n",
       "    <tr>\n",
       "      <th>0</th>\n",
       "      <td>25975</td>\n",
       "      <td>Streeter Dr &amp; Grand Ave</td>\n",
       "      <td>41.892278</td>\n",
       "      <td>-87.612043</td>\n",
       "    </tr>\n",
       "    <tr>\n",
       "      <th>1</th>\n",
       "      <td>20469</td>\n",
       "      <td>Lake Shore Dr &amp; Monroe St</td>\n",
       "      <td>41.880958</td>\n",
       "      <td>-87.616743</td>\n",
       "    </tr>\n",
       "    <tr>\n",
       "      <th>2</th>\n",
       "      <td>19236</td>\n",
       "      <td>Millennium Park</td>\n",
       "      <td>41.881032</td>\n",
       "      <td>-87.624084</td>\n",
       "    </tr>\n",
       "    <tr>\n",
       "      <th>3</th>\n",
       "      <td>14837</td>\n",
       "      <td>Theater on the Lake</td>\n",
       "      <td>41.926277</td>\n",
       "      <td>-87.630834</td>\n",
       "    </tr>\n",
       "    <tr>\n",
       "      <th>4</th>\n",
       "      <td>13488</td>\n",
       "      <td>Indiana Ave &amp; Roosevelt Rd</td>\n",
       "      <td>41.867888</td>\n",
       "      <td>-87.623041</td>\n",
       "    </tr>\n",
       "    <tr>\n",
       "      <th>5</th>\n",
       "      <td>13482</td>\n",
       "      <td>Michigan Ave &amp; Oak St</td>\n",
       "      <td>41.900960</td>\n",
       "      <td>-87.623777</td>\n",
       "    </tr>\n",
       "    <tr>\n",
       "      <th>6</th>\n",
       "      <td>13197</td>\n",
       "      <td>Lake Shore Dr &amp; North Blvd</td>\n",
       "      <td>41.911722</td>\n",
       "      <td>-87.626804</td>\n",
       "    </tr>\n",
       "    <tr>\n",
       "      <th>7</th>\n",
       "      <td>11819</td>\n",
       "      <td>Clark St &amp; Elm St</td>\n",
       "      <td>41.902678</td>\n",
       "      <td>-87.631677</td>\n",
       "    </tr>\n",
       "    <tr>\n",
       "      <th>8</th>\n",
       "      <td>11589</td>\n",
       "      <td>Michigan Ave &amp; Lake St</td>\n",
       "      <td>41.886024</td>\n",
       "      <td>-87.624117</td>\n",
       "    </tr>\n",
       "    <tr>\n",
       "      <th>9</th>\n",
       "      <td>10566</td>\n",
       "      <td>Michigan Ave &amp; Washington St</td>\n",
       "      <td>41.883984</td>\n",
       "      <td>-87.624684</td>\n",
       "    </tr>\n",
       "    <tr>\n",
       "      <th>10</th>\n",
       "      <td>10042</td>\n",
       "      <td>Clark St &amp; Lincoln Ave</td>\n",
       "      <td>41.915689</td>\n",
       "      <td>-87.634600</td>\n",
       "    </tr>\n",
       "    <tr>\n",
       "      <th>11</th>\n",
       "      <td>9965</td>\n",
       "      <td>Buckingham Fountain</td>\n",
       "      <td>41.876511</td>\n",
       "      <td>-87.620548</td>\n",
       "    </tr>\n",
       "    <tr>\n",
       "      <th>12</th>\n",
       "      <td>9878</td>\n",
       "      <td>Wells St &amp; Concord Ln</td>\n",
       "      <td>41.912133</td>\n",
       "      <td>-87.634656</td>\n",
       "    </tr>\n",
       "    <tr>\n",
       "      <th>13</th>\n",
       "      <td>9733</td>\n",
       "      <td>Clark St &amp; Armitage Ave</td>\n",
       "      <td>41.918285</td>\n",
       "      <td>-87.636336</td>\n",
       "    </tr>\n",
       "    <tr>\n",
       "      <th>14</th>\n",
       "      <td>9721</td>\n",
       "      <td>Shedd Aquarium</td>\n",
       "      <td>41.867226</td>\n",
       "      <td>-87.615355</td>\n",
       "    </tr>\n",
       "    <tr>\n",
       "      <th>15</th>\n",
       "      <td>9634</td>\n",
       "      <td>Michigan Ave &amp; 8th St</td>\n",
       "      <td>41.872773</td>\n",
       "      <td>-87.623981</td>\n",
       "    </tr>\n",
       "    <tr>\n",
       "      <th>16</th>\n",
       "      <td>9632</td>\n",
       "      <td>Wabash Ave &amp; Grand Ave</td>\n",
       "      <td>41.891466</td>\n",
       "      <td>-87.626761</td>\n",
       "    </tr>\n",
       "    <tr>\n",
       "      <th>17</th>\n",
       "      <td>9332</td>\n",
       "      <td>Columbus Dr &amp; Randolph St</td>\n",
       "      <td>41.884728</td>\n",
       "      <td>-87.619521</td>\n",
       "    </tr>\n",
       "    <tr>\n",
       "      <th>18</th>\n",
       "      <td>9083</td>\n",
       "      <td>Wells St &amp; Elm St</td>\n",
       "      <td>41.903070</td>\n",
       "      <td>-87.634610</td>\n",
       "    </tr>\n",
       "    <tr>\n",
       "      <th>19</th>\n",
       "      <td>8928</td>\n",
       "      <td>Fairbanks Ct &amp; Grand Ave</td>\n",
       "      <td>41.891847</td>\n",
       "      <td>-87.620580</td>\n",
       "    </tr>\n",
       "    <tr>\n",
       "      <th>20</th>\n",
       "      <td>8695</td>\n",
       "      <td>Lake Shore Dr &amp; Wellington Ave</td>\n",
       "      <td>41.936688</td>\n",
       "      <td>-87.636829</td>\n",
       "    </tr>\n",
       "    <tr>\n",
       "      <th>21</th>\n",
       "      <td>8685</td>\n",
       "      <td>Wabash Ave &amp; Roosevelt Rd</td>\n",
       "      <td>41.867227</td>\n",
       "      <td>-87.625961</td>\n",
       "    </tr>\n",
       "    <tr>\n",
       "      <th>22</th>\n",
       "      <td>8681</td>\n",
       "      <td>Wells St &amp; Evergreen Ave</td>\n",
       "      <td>41.906749</td>\n",
       "      <td>-87.635171</td>\n",
       "    </tr>\n",
       "    <tr>\n",
       "      <th>23</th>\n",
       "      <td>8666</td>\n",
       "      <td>Lake Shore Dr &amp; Belmont Ave</td>\n",
       "      <td>41.940775</td>\n",
       "      <td>-87.639192</td>\n",
       "    </tr>\n",
       "    <tr>\n",
       "      <th>24</th>\n",
       "      <td>8481</td>\n",
       "      <td>Lakeview Ave &amp; Fullerton Pkwy</td>\n",
       "      <td>41.925858</td>\n",
       "      <td>-87.638973</td>\n",
       "    </tr>\n",
       "  </tbody>\n",
       "</table>\n",
       "</div>"
      ],
      "text/plain": [
       "    count              start_station_name  start_lat  start_lng\n",
       "0   25975         Streeter Dr & Grand Ave  41.892278 -87.612043\n",
       "1   20469       Lake Shore Dr & Monroe St  41.880958 -87.616743\n",
       "2   19236                 Millennium Park  41.881032 -87.624084\n",
       "3   14837             Theater on the Lake  41.926277 -87.630834\n",
       "4   13488      Indiana Ave & Roosevelt Rd  41.867888 -87.623041\n",
       "5   13482           Michigan Ave & Oak St  41.900960 -87.623777\n",
       "6   13197      Lake Shore Dr & North Blvd  41.911722 -87.626804\n",
       "7   11819               Clark St & Elm St  41.902678 -87.631677\n",
       "8   11589          Michigan Ave & Lake St  41.886024 -87.624117\n",
       "9   10566    Michigan Ave & Washington St  41.883984 -87.624684\n",
       "10  10042          Clark St & Lincoln Ave  41.915689 -87.634600\n",
       "11   9965             Buckingham Fountain  41.876511 -87.620548\n",
       "12   9878           Wells St & Concord Ln  41.912133 -87.634656\n",
       "13   9733         Clark St & Armitage Ave  41.918285 -87.636336\n",
       "14   9721                  Shedd Aquarium  41.867226 -87.615355\n",
       "15   9634           Michigan Ave & 8th St  41.872773 -87.623981\n",
       "16   9632          Wabash Ave & Grand Ave  41.891466 -87.626761\n",
       "17   9332       Columbus Dr & Randolph St  41.884728 -87.619521\n",
       "18   9083               Wells St & Elm St  41.903070 -87.634610\n",
       "19   8928        Fairbanks Ct & Grand Ave  41.891847 -87.620580\n",
       "20   8695  Lake Shore Dr & Wellington Ave  41.936688 -87.636829\n",
       "21   8685       Wabash Ave & Roosevelt Rd  41.867227 -87.625961\n",
       "22   8681        Wells St & Evergreen Ave  41.906749 -87.635171\n",
       "23   8666     Lake Shore Dr & Belmont Ave  41.940775 -87.639192\n",
       "24   8481   Lakeview Ave & Fullerton Pkwy  41.925858 -87.638973"
      ]
     },
     "execution_count": 73,
     "metadata": {},
     "output_type": "execute_result"
    }
   ],
   "source": [
    "df_1c"
   ]
  },
  {
   "cell_type": "code",
   "execution_count": 74,
   "metadata": {},
   "outputs": [],
   "source": [
    "df_1m = pd.merge(df_m, stations, how='left', left_on='index', right_on='start_station_name').drop(columns='index')"
   ]
  },
  {
   "cell_type": "code",
   "execution_count": 75,
   "metadata": {},
   "outputs": [],
   "source": [
    "df_1m['member_casual']='member'\n",
    "df_1c['member_casual']='casual'"
   ]
  },
  {
   "cell_type": "code",
   "execution_count": 76,
   "metadata": {
    "collapsed": true
   },
   "outputs": [
    {
     "data": {
      "text/html": [
       "<div>\n",
       "<style scoped>\n",
       "    .dataframe tbody tr th:only-of-type {\n",
       "        vertical-align: middle;\n",
       "    }\n",
       "\n",
       "    .dataframe tbody tr th {\n",
       "        vertical-align: top;\n",
       "    }\n",
       "\n",
       "    .dataframe thead th {\n",
       "        text-align: right;\n",
       "    }\n",
       "</style>\n",
       "<table border=\"1\" class=\"dataframe\">\n",
       "  <thead>\n",
       "    <tr style=\"text-align: right;\">\n",
       "      <th></th>\n",
       "      <th>count</th>\n",
       "      <th>start_station_name</th>\n",
       "      <th>start_lat</th>\n",
       "      <th>start_lng</th>\n",
       "      <th>member_casual</th>\n",
       "    </tr>\n",
       "  </thead>\n",
       "  <tbody>\n",
       "    <tr>\n",
       "      <th>0</th>\n",
       "      <td>25975</td>\n",
       "      <td>Streeter Dr &amp; Grand Ave</td>\n",
       "      <td>41.892278</td>\n",
       "      <td>-87.612043</td>\n",
       "      <td>casual</td>\n",
       "    </tr>\n",
       "    <tr>\n",
       "      <th>1</th>\n",
       "      <td>20469</td>\n",
       "      <td>Lake Shore Dr &amp; Monroe St</td>\n",
       "      <td>41.880958</td>\n",
       "      <td>-87.616743</td>\n",
       "      <td>casual</td>\n",
       "    </tr>\n",
       "    <tr>\n",
       "      <th>2</th>\n",
       "      <td>19236</td>\n",
       "      <td>Millennium Park</td>\n",
       "      <td>41.881032</td>\n",
       "      <td>-87.624084</td>\n",
       "      <td>casual</td>\n",
       "    </tr>\n",
       "    <tr>\n",
       "      <th>3</th>\n",
       "      <td>14837</td>\n",
       "      <td>Theater on the Lake</td>\n",
       "      <td>41.926277</td>\n",
       "      <td>-87.630834</td>\n",
       "      <td>casual</td>\n",
       "    </tr>\n",
       "    <tr>\n",
       "      <th>4</th>\n",
       "      <td>13488</td>\n",
       "      <td>Indiana Ave &amp; Roosevelt Rd</td>\n",
       "      <td>41.867888</td>\n",
       "      <td>-87.623041</td>\n",
       "      <td>casual</td>\n",
       "    </tr>\n",
       "    <tr>\n",
       "      <th>5</th>\n",
       "      <td>13482</td>\n",
       "      <td>Michigan Ave &amp; Oak St</td>\n",
       "      <td>41.900960</td>\n",
       "      <td>-87.623777</td>\n",
       "      <td>casual</td>\n",
       "    </tr>\n",
       "    <tr>\n",
       "      <th>6</th>\n",
       "      <td>13197</td>\n",
       "      <td>Lake Shore Dr &amp; North Blvd</td>\n",
       "      <td>41.911722</td>\n",
       "      <td>-87.626804</td>\n",
       "      <td>casual</td>\n",
       "    </tr>\n",
       "    <tr>\n",
       "      <th>7</th>\n",
       "      <td>11819</td>\n",
       "      <td>Clark St &amp; Elm St</td>\n",
       "      <td>41.902678</td>\n",
       "      <td>-87.631677</td>\n",
       "      <td>casual</td>\n",
       "    </tr>\n",
       "    <tr>\n",
       "      <th>8</th>\n",
       "      <td>11589</td>\n",
       "      <td>Michigan Ave &amp; Lake St</td>\n",
       "      <td>41.886024</td>\n",
       "      <td>-87.624117</td>\n",
       "      <td>casual</td>\n",
       "    </tr>\n",
       "    <tr>\n",
       "      <th>9</th>\n",
       "      <td>10566</td>\n",
       "      <td>Michigan Ave &amp; Washington St</td>\n",
       "      <td>41.883984</td>\n",
       "      <td>-87.624684</td>\n",
       "      <td>casual</td>\n",
       "    </tr>\n",
       "    <tr>\n",
       "      <th>10</th>\n",
       "      <td>10042</td>\n",
       "      <td>Clark St &amp; Lincoln Ave</td>\n",
       "      <td>41.915689</td>\n",
       "      <td>-87.634600</td>\n",
       "      <td>casual</td>\n",
       "    </tr>\n",
       "    <tr>\n",
       "      <th>11</th>\n",
       "      <td>9965</td>\n",
       "      <td>Buckingham Fountain</td>\n",
       "      <td>41.876511</td>\n",
       "      <td>-87.620548</td>\n",
       "      <td>casual</td>\n",
       "    </tr>\n",
       "    <tr>\n",
       "      <th>12</th>\n",
       "      <td>9878</td>\n",
       "      <td>Wells St &amp; Concord Ln</td>\n",
       "      <td>41.912133</td>\n",
       "      <td>-87.634656</td>\n",
       "      <td>casual</td>\n",
       "    </tr>\n",
       "    <tr>\n",
       "      <th>13</th>\n",
       "      <td>9733</td>\n",
       "      <td>Clark St &amp; Armitage Ave</td>\n",
       "      <td>41.918285</td>\n",
       "      <td>-87.636336</td>\n",
       "      <td>casual</td>\n",
       "    </tr>\n",
       "    <tr>\n",
       "      <th>14</th>\n",
       "      <td>9721</td>\n",
       "      <td>Shedd Aquarium</td>\n",
       "      <td>41.867226</td>\n",
       "      <td>-87.615355</td>\n",
       "      <td>casual</td>\n",
       "    </tr>\n",
       "    <tr>\n",
       "      <th>15</th>\n",
       "      <td>9634</td>\n",
       "      <td>Michigan Ave &amp; 8th St</td>\n",
       "      <td>41.872773</td>\n",
       "      <td>-87.623981</td>\n",
       "      <td>casual</td>\n",
       "    </tr>\n",
       "    <tr>\n",
       "      <th>16</th>\n",
       "      <td>9632</td>\n",
       "      <td>Wabash Ave &amp; Grand Ave</td>\n",
       "      <td>41.891466</td>\n",
       "      <td>-87.626761</td>\n",
       "      <td>casual</td>\n",
       "    </tr>\n",
       "    <tr>\n",
       "      <th>17</th>\n",
       "      <td>9332</td>\n",
       "      <td>Columbus Dr &amp; Randolph St</td>\n",
       "      <td>41.884728</td>\n",
       "      <td>-87.619521</td>\n",
       "      <td>casual</td>\n",
       "    </tr>\n",
       "    <tr>\n",
       "      <th>18</th>\n",
       "      <td>9083</td>\n",
       "      <td>Wells St &amp; Elm St</td>\n",
       "      <td>41.903070</td>\n",
       "      <td>-87.634610</td>\n",
       "      <td>casual</td>\n",
       "    </tr>\n",
       "    <tr>\n",
       "      <th>19</th>\n",
       "      <td>8928</td>\n",
       "      <td>Fairbanks Ct &amp; Grand Ave</td>\n",
       "      <td>41.891847</td>\n",
       "      <td>-87.620580</td>\n",
       "      <td>casual</td>\n",
       "    </tr>\n",
       "    <tr>\n",
       "      <th>20</th>\n",
       "      <td>8695</td>\n",
       "      <td>Lake Shore Dr &amp; Wellington Ave</td>\n",
       "      <td>41.936688</td>\n",
       "      <td>-87.636829</td>\n",
       "      <td>casual</td>\n",
       "    </tr>\n",
       "    <tr>\n",
       "      <th>21</th>\n",
       "      <td>8685</td>\n",
       "      <td>Wabash Ave &amp; Roosevelt Rd</td>\n",
       "      <td>41.867227</td>\n",
       "      <td>-87.625961</td>\n",
       "      <td>casual</td>\n",
       "    </tr>\n",
       "    <tr>\n",
       "      <th>22</th>\n",
       "      <td>8681</td>\n",
       "      <td>Wells St &amp; Evergreen Ave</td>\n",
       "      <td>41.906749</td>\n",
       "      <td>-87.635171</td>\n",
       "      <td>casual</td>\n",
       "    </tr>\n",
       "    <tr>\n",
       "      <th>23</th>\n",
       "      <td>8666</td>\n",
       "      <td>Lake Shore Dr &amp; Belmont Ave</td>\n",
       "      <td>41.940775</td>\n",
       "      <td>-87.639192</td>\n",
       "      <td>casual</td>\n",
       "    </tr>\n",
       "    <tr>\n",
       "      <th>24</th>\n",
       "      <td>8481</td>\n",
       "      <td>Lakeview Ave &amp; Fullerton Pkwy</td>\n",
       "      <td>41.925858</td>\n",
       "      <td>-87.638973</td>\n",
       "      <td>casual</td>\n",
       "    </tr>\n",
       "    <tr>\n",
       "      <th>0</th>\n",
       "      <td>20005</td>\n",
       "      <td>Clark St &amp; Elm St</td>\n",
       "      <td>41.902678</td>\n",
       "      <td>-87.631677</td>\n",
       "      <td>member</td>\n",
       "    </tr>\n",
       "    <tr>\n",
       "      <th>1</th>\n",
       "      <td>15541</td>\n",
       "      <td>Broadway &amp; Barry Ave</td>\n",
       "      <td>41.937582</td>\n",
       "      <td>-87.644098</td>\n",
       "      <td>member</td>\n",
       "    </tr>\n",
       "    <tr>\n",
       "      <th>2</th>\n",
       "      <td>15174</td>\n",
       "      <td>St. Clair St &amp; Erie St</td>\n",
       "      <td>41.894345</td>\n",
       "      <td>-87.622798</td>\n",
       "      <td>member</td>\n",
       "    </tr>\n",
       "    <tr>\n",
       "      <th>3</th>\n",
       "      <td>15069</td>\n",
       "      <td>Dearborn St &amp; Erie St</td>\n",
       "      <td>41.893992</td>\n",
       "      <td>-87.629318</td>\n",
       "      <td>member</td>\n",
       "    </tr>\n",
       "    <tr>\n",
       "      <th>4</th>\n",
       "      <td>14836</td>\n",
       "      <td>Wells St &amp; Concord Ln</td>\n",
       "      <td>41.912133</td>\n",
       "      <td>-87.634656</td>\n",
       "      <td>member</td>\n",
       "    </tr>\n",
       "    <tr>\n",
       "      <th>5</th>\n",
       "      <td>14516</td>\n",
       "      <td>Theater on the Lake</td>\n",
       "      <td>41.926277</td>\n",
       "      <td>-87.630834</td>\n",
       "      <td>member</td>\n",
       "    </tr>\n",
       "    <tr>\n",
       "      <th>6</th>\n",
       "      <td>14049</td>\n",
       "      <td>Kingsbury St &amp; Kinzie St</td>\n",
       "      <td>41.889177</td>\n",
       "      <td>-87.638506</td>\n",
       "      <td>member</td>\n",
       "    </tr>\n",
       "    <tr>\n",
       "      <th>7</th>\n",
       "      <td>13864</td>\n",
       "      <td>Wells St &amp; Huron St</td>\n",
       "      <td>41.894722</td>\n",
       "      <td>-87.634362</td>\n",
       "      <td>member</td>\n",
       "    </tr>\n",
       "    <tr>\n",
       "      <th>8</th>\n",
       "      <td>13815</td>\n",
       "      <td>Wells St &amp; Elm St</td>\n",
       "      <td>41.903070</td>\n",
       "      <td>-87.634610</td>\n",
       "      <td>member</td>\n",
       "    </tr>\n",
       "    <tr>\n",
       "      <th>9</th>\n",
       "      <td>13717</td>\n",
       "      <td>Clark St &amp; Armitage Ave</td>\n",
       "      <td>41.918285</td>\n",
       "      <td>-87.636336</td>\n",
       "      <td>member</td>\n",
       "    </tr>\n",
       "    <tr>\n",
       "      <th>10</th>\n",
       "      <td>13530</td>\n",
       "      <td>Lake Shore Dr &amp; North Blvd</td>\n",
       "      <td>41.911722</td>\n",
       "      <td>-87.626804</td>\n",
       "      <td>member</td>\n",
       "    </tr>\n",
       "    <tr>\n",
       "      <th>11</th>\n",
       "      <td>13454</td>\n",
       "      <td>Desplaines St &amp; Kinzie St</td>\n",
       "      <td>41.888716</td>\n",
       "      <td>-87.644448</td>\n",
       "      <td>member</td>\n",
       "    </tr>\n",
       "    <tr>\n",
       "      <th>12</th>\n",
       "      <td>12537</td>\n",
       "      <td>Lake Shore Dr &amp; Wellington Ave</td>\n",
       "      <td>41.936688</td>\n",
       "      <td>-87.636829</td>\n",
       "      <td>member</td>\n",
       "    </tr>\n",
       "    <tr>\n",
       "      <th>13</th>\n",
       "      <td>12270</td>\n",
       "      <td>Columbus Dr &amp; Randolph St</td>\n",
       "      <td>41.884728</td>\n",
       "      <td>-87.619521</td>\n",
       "      <td>member</td>\n",
       "    </tr>\n",
       "    <tr>\n",
       "      <th>14</th>\n",
       "      <td>12215</td>\n",
       "      <td>Larrabee St &amp; Webster Ave</td>\n",
       "      <td>41.921822</td>\n",
       "      <td>-87.644140</td>\n",
       "      <td>member</td>\n",
       "    </tr>\n",
       "    <tr>\n",
       "      <th>15</th>\n",
       "      <td>12076</td>\n",
       "      <td>Clark St &amp; Schiller St</td>\n",
       "      <td>41.907993</td>\n",
       "      <td>-87.631501</td>\n",
       "      <td>member</td>\n",
       "    </tr>\n",
       "    <tr>\n",
       "      <th>16</th>\n",
       "      <td>12046</td>\n",
       "      <td>Clark St &amp; Lincoln Ave</td>\n",
       "      <td>41.915689</td>\n",
       "      <td>-87.634600</td>\n",
       "      <td>member</td>\n",
       "    </tr>\n",
       "    <tr>\n",
       "      <th>17</th>\n",
       "      <td>11908</td>\n",
       "      <td>Broadway &amp; Cornelia Ave</td>\n",
       "      <td>41.945518</td>\n",
       "      <td>-87.646457</td>\n",
       "      <td>member</td>\n",
       "    </tr>\n",
       "    <tr>\n",
       "      <th>18</th>\n",
       "      <td>11738</td>\n",
       "      <td>Dearborn Pkwy &amp; Delaware Pl</td>\n",
       "      <td>41.898969</td>\n",
       "      <td>-87.629912</td>\n",
       "      <td>member</td>\n",
       "    </tr>\n",
       "    <tr>\n",
       "      <th>19</th>\n",
       "      <td>11547</td>\n",
       "      <td>Wabash Ave &amp; Grand Ave</td>\n",
       "      <td>41.891466</td>\n",
       "      <td>-87.626761</td>\n",
       "      <td>member</td>\n",
       "    </tr>\n",
       "    <tr>\n",
       "      <th>20</th>\n",
       "      <td>11485</td>\n",
       "      <td>Wabash Ave &amp; Roosevelt Rd</td>\n",
       "      <td>41.867227</td>\n",
       "      <td>-87.625961</td>\n",
       "      <td>member</td>\n",
       "    </tr>\n",
       "    <tr>\n",
       "      <th>21</th>\n",
       "      <td>11156</td>\n",
       "      <td>Kingsbury St &amp; Erie St</td>\n",
       "      <td>41.893808</td>\n",
       "      <td>-87.641697</td>\n",
       "      <td>member</td>\n",
       "    </tr>\n",
       "    <tr>\n",
       "      <th>22</th>\n",
       "      <td>10986</td>\n",
       "      <td>Clark St &amp; Drummond Pl</td>\n",
       "      <td>41.931248</td>\n",
       "      <td>-87.644336</td>\n",
       "      <td>member</td>\n",
       "    </tr>\n",
       "    <tr>\n",
       "      <th>23</th>\n",
       "      <td>10959</td>\n",
       "      <td>Broadway &amp; Waveland Ave</td>\n",
       "      <td>41.949074</td>\n",
       "      <td>-87.648636</td>\n",
       "      <td>member</td>\n",
       "    </tr>\n",
       "    <tr>\n",
       "      <th>24</th>\n",
       "      <td>10818</td>\n",
       "      <td>Clark St &amp; Wrightwood Ave</td>\n",
       "      <td>41.929546</td>\n",
       "      <td>-87.643118</td>\n",
       "      <td>member</td>\n",
       "    </tr>\n",
       "  </tbody>\n",
       "</table>\n",
       "</div>"
      ],
      "text/plain": [
       "    count              start_station_name  start_lat  start_lng member_casual\n",
       "0   25975         Streeter Dr & Grand Ave  41.892278 -87.612043        casual\n",
       "1   20469       Lake Shore Dr & Monroe St  41.880958 -87.616743        casual\n",
       "2   19236                 Millennium Park  41.881032 -87.624084        casual\n",
       "3   14837             Theater on the Lake  41.926277 -87.630834        casual\n",
       "4   13488      Indiana Ave & Roosevelt Rd  41.867888 -87.623041        casual\n",
       "5   13482           Michigan Ave & Oak St  41.900960 -87.623777        casual\n",
       "6   13197      Lake Shore Dr & North Blvd  41.911722 -87.626804        casual\n",
       "7   11819               Clark St & Elm St  41.902678 -87.631677        casual\n",
       "8   11589          Michigan Ave & Lake St  41.886024 -87.624117        casual\n",
       "9   10566    Michigan Ave & Washington St  41.883984 -87.624684        casual\n",
       "10  10042          Clark St & Lincoln Ave  41.915689 -87.634600        casual\n",
       "11   9965             Buckingham Fountain  41.876511 -87.620548        casual\n",
       "12   9878           Wells St & Concord Ln  41.912133 -87.634656        casual\n",
       "13   9733         Clark St & Armitage Ave  41.918285 -87.636336        casual\n",
       "14   9721                  Shedd Aquarium  41.867226 -87.615355        casual\n",
       "15   9634           Michigan Ave & 8th St  41.872773 -87.623981        casual\n",
       "16   9632          Wabash Ave & Grand Ave  41.891466 -87.626761        casual\n",
       "17   9332       Columbus Dr & Randolph St  41.884728 -87.619521        casual\n",
       "18   9083               Wells St & Elm St  41.903070 -87.634610        casual\n",
       "19   8928        Fairbanks Ct & Grand Ave  41.891847 -87.620580        casual\n",
       "20   8695  Lake Shore Dr & Wellington Ave  41.936688 -87.636829        casual\n",
       "21   8685       Wabash Ave & Roosevelt Rd  41.867227 -87.625961        casual\n",
       "22   8681        Wells St & Evergreen Ave  41.906749 -87.635171        casual\n",
       "23   8666     Lake Shore Dr & Belmont Ave  41.940775 -87.639192        casual\n",
       "24   8481   Lakeview Ave & Fullerton Pkwy  41.925858 -87.638973        casual\n",
       "0   20005               Clark St & Elm St  41.902678 -87.631677        member\n",
       "1   15541            Broadway & Barry Ave  41.937582 -87.644098        member\n",
       "2   15174          St. Clair St & Erie St  41.894345 -87.622798        member\n",
       "3   15069           Dearborn St & Erie St  41.893992 -87.629318        member\n",
       "4   14836           Wells St & Concord Ln  41.912133 -87.634656        member\n",
       "5   14516             Theater on the Lake  41.926277 -87.630834        member\n",
       "6   14049        Kingsbury St & Kinzie St  41.889177 -87.638506        member\n",
       "7   13864             Wells St & Huron St  41.894722 -87.634362        member\n",
       "8   13815               Wells St & Elm St  41.903070 -87.634610        member\n",
       "9   13717         Clark St & Armitage Ave  41.918285 -87.636336        member\n",
       "10  13530      Lake Shore Dr & North Blvd  41.911722 -87.626804        member\n",
       "11  13454       Desplaines St & Kinzie St  41.888716 -87.644448        member\n",
       "12  12537  Lake Shore Dr & Wellington Ave  41.936688 -87.636829        member\n",
       "13  12270       Columbus Dr & Randolph St  41.884728 -87.619521        member\n",
       "14  12215       Larrabee St & Webster Ave  41.921822 -87.644140        member\n",
       "15  12076          Clark St & Schiller St  41.907993 -87.631501        member\n",
       "16  12046          Clark St & Lincoln Ave  41.915689 -87.634600        member\n",
       "17  11908         Broadway & Cornelia Ave  41.945518 -87.646457        member\n",
       "18  11738     Dearborn Pkwy & Delaware Pl  41.898969 -87.629912        member\n",
       "19  11547          Wabash Ave & Grand Ave  41.891466 -87.626761        member\n",
       "20  11485       Wabash Ave & Roosevelt Rd  41.867227 -87.625961        member\n",
       "21  11156          Kingsbury St & Erie St  41.893808 -87.641697        member\n",
       "22  10986          Clark St & Drummond Pl  41.931248 -87.644336        member\n",
       "23  10959         Broadway & Waveland Ave  41.949074 -87.648636        member\n",
       "24  10818       Clark St & Wrightwood Ave  41.929546 -87.643118        member"
      ]
     },
     "execution_count": 76,
     "metadata": {},
     "output_type": "execute_result"
    }
   ],
   "source": [
    "df_geomap = pd.concat([df_1c, df_1m])\n",
    "df_geomap"
   ]
  },
  {
   "cell_type": "code",
   "execution_count": null,
   "metadata": {},
   "outputs": [],
   "source": []
  },
  {
   "cell_type": "code",
   "execution_count": 77,
   "metadata": {},
   "outputs": [],
   "source": [
    "import plotly.express as px"
   ]
  },
  {
   "cell_type": "markdown",
   "metadata": {},
   "source": [
    "Next, I wanted to see where the top 25 stations casual riders and top 25 stations for members were located."
   ]
  },
  {
   "cell_type": "code",
   "execution_count": 83,
   "metadata": {
    "scrolled": false
   },
   "outputs": [
    {
     "data": {
      "application/vnd.plotly.v1+json": {
       "config": {
        "plotlyServerURL": "https://plot.ly"
       },
       "data": [
        {
         "hovertemplate": "<b>%{hovertext}</b><br><br>member_casual=casual<br>count=%{marker.size}<br>start_lat=%{lat}<br>start_lng=%{lon}<extra></extra>",
         "hovertext": [
          "Streeter Dr & Grand Ave",
          "Lake Shore Dr & Monroe St",
          "Millennium Park",
          "Theater on the Lake",
          "Indiana Ave & Roosevelt Rd",
          "Michigan Ave & Oak St",
          "Lake Shore Dr & North Blvd",
          "Clark St & Elm St",
          "Michigan Ave & Lake St",
          "Michigan Ave & Washington St",
          "Clark St & Lincoln Ave",
          "Buckingham Fountain",
          "Wells St & Concord Ln",
          "Clark St & Armitage Ave",
          "Shedd Aquarium",
          "Michigan Ave & 8th St",
          "Wabash Ave & Grand Ave",
          "Columbus Dr & Randolph St",
          "Wells St & Elm St",
          "Fairbanks Ct & Grand Ave",
          "Lake Shore Dr & Wellington Ave",
          "Wabash Ave & Roosevelt Rd",
          "Wells St & Evergreen Ave",
          "Lake Shore Dr & Belmont Ave",
          "Lakeview Ave & Fullerton Pkwy"
         ],
         "lat": [
          41.892278,
          41.880958,
          41.8810317,
          41.926277,
          41.867888,
          41.90096039,
          41.911722,
          41.902677833333335,
          41.886024,
          41.8839840647265,
          41.915689,
          41.87651122881695,
          41.912133,
          41.91828533333333,
          41.86722595682,
          41.872773,
          41.891466,
          41.884728,
          41.90306983333333,
          41.89184737210993,
          41.9366884494997,
          41.867227,
          41.90674916666666,
          41.940775,
          41.925858
         ],
         "legendgroup": "casual",
         "lon": [
          -87.612043,
          -87.616743,
          -87.62408432,
          -87.630834,
          -87.623041,
          -87.62377664,
          -87.626804,
          -87.63167733333333,
          -87.624117,
          -87.6246839761734,
          -87.6346,
          -87.62054800987242,
          -87.634656,
          -87.6363365,
          -87.6153553902,
          -87.623981,
          -87.626761,
          -87.619521,
          -87.63461016666666,
          -87.62058019638062,
          -87.63682901859283,
          -87.625961,
          -87.63517133333333,
          -87.639192,
          -87.638973
         ],
         "marker": {
          "color": "#636efa",
          "opacity": 0.7,
          "size": [
           25975,
           20469,
           19236,
           14837,
           13488,
           13482,
           13197,
           11819,
           11589,
           10566,
           10042,
           9965,
           9878,
           9733,
           9721,
           9634,
           9632,
           9332,
           9083,
           8928,
           8695,
           8685,
           8681,
           8666,
           8481
          ],
          "sizemode": "area",
          "sizeref": 64.9375
         },
         "mode": "markers",
         "name": "casual",
         "showlegend": true,
         "subplot": "mapbox",
         "type": "scattermapbox"
        },
        {
         "hovertemplate": "<b>%{hovertext}</b><br><br>member_casual=member<br>count=%{marker.size}<br>start_lat=%{lat}<br>start_lng=%{lon}<extra></extra>",
         "hovertext": [
          "Clark St & Elm St",
          "Broadway & Barry Ave",
          "St. Clair St & Erie St",
          "Dearborn St & Erie St",
          "Wells St & Concord Ln",
          "Theater on the Lake",
          "Kingsbury St & Kinzie St",
          "Wells St & Huron St",
          "Wells St & Elm St",
          "Clark St & Armitage Ave",
          "Lake Shore Dr & North Blvd",
          "Desplaines St & Kinzie St",
          "Lake Shore Dr & Wellington Ave",
          "Columbus Dr & Randolph St",
          "Larrabee St & Webster Ave",
          "Clark St & Schiller St",
          "Clark St & Lincoln Ave",
          "Broadway & Cornelia Ave",
          "Dearborn Pkwy & Delaware Pl",
          "Wabash Ave & Grand Ave",
          "Wabash Ave & Roosevelt Rd",
          "Kingsbury St & Erie St",
          "Clark St & Drummond Pl",
          "Broadway & Waveland Ave",
          "Clark St & Wrightwood Ave"
         ],
         "lat": [
          41.902677833333335,
          41.93758231600629,
          41.89434513742426,
          41.893992,
          41.912133,
          41.926277,
          41.88917683258,
          41.894722,
          41.90306983333333,
          41.91828533333333,
          41.911722,
          41.888716036,
          41.9366884494997,
          41.884728,
          41.921822,
          41.907993,
          41.915689,
          41.9455185,
          41.898969,
          41.891466,
          41.867227,
          41.89380805624359,
          41.931248,
          41.949074,
          41.929546
         ],
         "legendgroup": "member",
         "lon": [
          -87.63167733333333,
          -87.6440978050232,
          -87.62279838323593,
          -87.629318,
          -87.634656,
          -87.630834,
          -87.6385057718,
          -87.634362,
          -87.63461016666666,
          -87.6363365,
          -87.626804,
          -87.6444478533,
          -87.63682901859283,
          -87.619521,
          -87.64414,
          -87.631501,
          -87.6346,
          -87.646457,
          -87.629912,
          -87.626761,
          -87.625961,
          -87.64169722795485,
          -87.644336,
          -87.648636,
          -87.643118
         ],
         "marker": {
          "color": "#EF553B",
          "opacity": 0.7,
          "size": [
           20005,
           15541,
           15174,
           15069,
           14836,
           14516,
           14049,
           13864,
           13815,
           13717,
           13530,
           13454,
           12537,
           12270,
           12215,
           12076,
           12046,
           11908,
           11738,
           11547,
           11485,
           11156,
           10986,
           10959,
           10818
          ],
          "sizemode": "area",
          "sizeref": 64.9375
         },
         "mode": "markers",
         "name": "member",
         "showlegend": true,
         "subplot": "mapbox",
         "type": "scattermapbox"
        }
       ],
       "layout": {
        "legend": {
         "itemsizing": "constant",
         "title": {
          "text": "member_casual"
         },
         "tracegroupgap": 0
        },
        "mapbox": {
         "center": {
          "lat": 41.90382607312788,
          "lon": -87.63125593888917
         },
         "domain": {
          "x": [
           0,
           1
          ],
          "y": [
           0,
           1
          ]
         },
         "style": "open-street-map",
         "zoom": 8
        },
        "margin": {
         "t": 60
        },
        "template": {
         "data": {
          "bar": [
           {
            "error_x": {
             "color": "#2a3f5f"
            },
            "error_y": {
             "color": "#2a3f5f"
            },
            "marker": {
             "line": {
              "color": "#E5ECF6",
              "width": 0.5
             }
            },
            "type": "bar"
           }
          ],
          "barpolar": [
           {
            "marker": {
             "line": {
              "color": "#E5ECF6",
              "width": 0.5
             }
            },
            "type": "barpolar"
           }
          ],
          "carpet": [
           {
            "aaxis": {
             "endlinecolor": "#2a3f5f",
             "gridcolor": "white",
             "linecolor": "white",
             "minorgridcolor": "white",
             "startlinecolor": "#2a3f5f"
            },
            "baxis": {
             "endlinecolor": "#2a3f5f",
             "gridcolor": "white",
             "linecolor": "white",
             "minorgridcolor": "white",
             "startlinecolor": "#2a3f5f"
            },
            "type": "carpet"
           }
          ],
          "choropleth": [
           {
            "colorbar": {
             "outlinewidth": 0,
             "ticks": ""
            },
            "type": "choropleth"
           }
          ],
          "contour": [
           {
            "colorbar": {
             "outlinewidth": 0,
             "ticks": ""
            },
            "colorscale": [
             [
              0,
              "#0d0887"
             ],
             [
              0.1111111111111111,
              "#46039f"
             ],
             [
              0.2222222222222222,
              "#7201a8"
             ],
             [
              0.3333333333333333,
              "#9c179e"
             ],
             [
              0.4444444444444444,
              "#bd3786"
             ],
             [
              0.5555555555555556,
              "#d8576b"
             ],
             [
              0.6666666666666666,
              "#ed7953"
             ],
             [
              0.7777777777777778,
              "#fb9f3a"
             ],
             [
              0.8888888888888888,
              "#fdca26"
             ],
             [
              1,
              "#f0f921"
             ]
            ],
            "type": "contour"
           }
          ],
          "contourcarpet": [
           {
            "colorbar": {
             "outlinewidth": 0,
             "ticks": ""
            },
            "type": "contourcarpet"
           }
          ],
          "heatmap": [
           {
            "colorbar": {
             "outlinewidth": 0,
             "ticks": ""
            },
            "colorscale": [
             [
              0,
              "#0d0887"
             ],
             [
              0.1111111111111111,
              "#46039f"
             ],
             [
              0.2222222222222222,
              "#7201a8"
             ],
             [
              0.3333333333333333,
              "#9c179e"
             ],
             [
              0.4444444444444444,
              "#bd3786"
             ],
             [
              0.5555555555555556,
              "#d8576b"
             ],
             [
              0.6666666666666666,
              "#ed7953"
             ],
             [
              0.7777777777777778,
              "#fb9f3a"
             ],
             [
              0.8888888888888888,
              "#fdca26"
             ],
             [
              1,
              "#f0f921"
             ]
            ],
            "type": "heatmap"
           }
          ],
          "heatmapgl": [
           {
            "colorbar": {
             "outlinewidth": 0,
             "ticks": ""
            },
            "colorscale": [
             [
              0,
              "#0d0887"
             ],
             [
              0.1111111111111111,
              "#46039f"
             ],
             [
              0.2222222222222222,
              "#7201a8"
             ],
             [
              0.3333333333333333,
              "#9c179e"
             ],
             [
              0.4444444444444444,
              "#bd3786"
             ],
             [
              0.5555555555555556,
              "#d8576b"
             ],
             [
              0.6666666666666666,
              "#ed7953"
             ],
             [
              0.7777777777777778,
              "#fb9f3a"
             ],
             [
              0.8888888888888888,
              "#fdca26"
             ],
             [
              1,
              "#f0f921"
             ]
            ],
            "type": "heatmapgl"
           }
          ],
          "histogram": [
           {
            "marker": {
             "colorbar": {
              "outlinewidth": 0,
              "ticks": ""
             }
            },
            "type": "histogram"
           }
          ],
          "histogram2d": [
           {
            "colorbar": {
             "outlinewidth": 0,
             "ticks": ""
            },
            "colorscale": [
             [
              0,
              "#0d0887"
             ],
             [
              0.1111111111111111,
              "#46039f"
             ],
             [
              0.2222222222222222,
              "#7201a8"
             ],
             [
              0.3333333333333333,
              "#9c179e"
             ],
             [
              0.4444444444444444,
              "#bd3786"
             ],
             [
              0.5555555555555556,
              "#d8576b"
             ],
             [
              0.6666666666666666,
              "#ed7953"
             ],
             [
              0.7777777777777778,
              "#fb9f3a"
             ],
             [
              0.8888888888888888,
              "#fdca26"
             ],
             [
              1,
              "#f0f921"
             ]
            ],
            "type": "histogram2d"
           }
          ],
          "histogram2dcontour": [
           {
            "colorbar": {
             "outlinewidth": 0,
             "ticks": ""
            },
            "colorscale": [
             [
              0,
              "#0d0887"
             ],
             [
              0.1111111111111111,
              "#46039f"
             ],
             [
              0.2222222222222222,
              "#7201a8"
             ],
             [
              0.3333333333333333,
              "#9c179e"
             ],
             [
              0.4444444444444444,
              "#bd3786"
             ],
             [
              0.5555555555555556,
              "#d8576b"
             ],
             [
              0.6666666666666666,
              "#ed7953"
             ],
             [
              0.7777777777777778,
              "#fb9f3a"
             ],
             [
              0.8888888888888888,
              "#fdca26"
             ],
             [
              1,
              "#f0f921"
             ]
            ],
            "type": "histogram2dcontour"
           }
          ],
          "mesh3d": [
           {
            "colorbar": {
             "outlinewidth": 0,
             "ticks": ""
            },
            "type": "mesh3d"
           }
          ],
          "parcoords": [
           {
            "line": {
             "colorbar": {
              "outlinewidth": 0,
              "ticks": ""
             }
            },
            "type": "parcoords"
           }
          ],
          "pie": [
           {
            "automargin": true,
            "type": "pie"
           }
          ],
          "scatter": [
           {
            "marker": {
             "colorbar": {
              "outlinewidth": 0,
              "ticks": ""
             }
            },
            "type": "scatter"
           }
          ],
          "scatter3d": [
           {
            "line": {
             "colorbar": {
              "outlinewidth": 0,
              "ticks": ""
             }
            },
            "marker": {
             "colorbar": {
              "outlinewidth": 0,
              "ticks": ""
             }
            },
            "type": "scatter3d"
           }
          ],
          "scattercarpet": [
           {
            "marker": {
             "colorbar": {
              "outlinewidth": 0,
              "ticks": ""
             }
            },
            "type": "scattercarpet"
           }
          ],
          "scattergeo": [
           {
            "marker": {
             "colorbar": {
              "outlinewidth": 0,
              "ticks": ""
             }
            },
            "type": "scattergeo"
           }
          ],
          "scattergl": [
           {
            "marker": {
             "colorbar": {
              "outlinewidth": 0,
              "ticks": ""
             }
            },
            "type": "scattergl"
           }
          ],
          "scattermapbox": [
           {
            "marker": {
             "colorbar": {
              "outlinewidth": 0,
              "ticks": ""
             }
            },
            "type": "scattermapbox"
           }
          ],
          "scatterpolar": [
           {
            "marker": {
             "colorbar": {
              "outlinewidth": 0,
              "ticks": ""
             }
            },
            "type": "scatterpolar"
           }
          ],
          "scatterpolargl": [
           {
            "marker": {
             "colorbar": {
              "outlinewidth": 0,
              "ticks": ""
             }
            },
            "type": "scatterpolargl"
           }
          ],
          "scatterternary": [
           {
            "marker": {
             "colorbar": {
              "outlinewidth": 0,
              "ticks": ""
             }
            },
            "type": "scatterternary"
           }
          ],
          "surface": [
           {
            "colorbar": {
             "outlinewidth": 0,
             "ticks": ""
            },
            "colorscale": [
             [
              0,
              "#0d0887"
             ],
             [
              0.1111111111111111,
              "#46039f"
             ],
             [
              0.2222222222222222,
              "#7201a8"
             ],
             [
              0.3333333333333333,
              "#9c179e"
             ],
             [
              0.4444444444444444,
              "#bd3786"
             ],
             [
              0.5555555555555556,
              "#d8576b"
             ],
             [
              0.6666666666666666,
              "#ed7953"
             ],
             [
              0.7777777777777778,
              "#fb9f3a"
             ],
             [
              0.8888888888888888,
              "#fdca26"
             ],
             [
              1,
              "#f0f921"
             ]
            ],
            "type": "surface"
           }
          ],
          "table": [
           {
            "cells": {
             "fill": {
              "color": "#EBF0F8"
             },
             "line": {
              "color": "white"
             }
            },
            "header": {
             "fill": {
              "color": "#C8D4E3"
             },
             "line": {
              "color": "white"
             }
            },
            "type": "table"
           }
          ]
         },
         "layout": {
          "annotationdefaults": {
           "arrowcolor": "#2a3f5f",
           "arrowhead": 0,
           "arrowwidth": 1
          },
          "coloraxis": {
           "colorbar": {
            "outlinewidth": 0,
            "ticks": ""
           }
          },
          "colorscale": {
           "diverging": [
            [
             0,
             "#8e0152"
            ],
            [
             0.1,
             "#c51b7d"
            ],
            [
             0.2,
             "#de77ae"
            ],
            [
             0.3,
             "#f1b6da"
            ],
            [
             0.4,
             "#fde0ef"
            ],
            [
             0.5,
             "#f7f7f7"
            ],
            [
             0.6,
             "#e6f5d0"
            ],
            [
             0.7,
             "#b8e186"
            ],
            [
             0.8,
             "#7fbc41"
            ],
            [
             0.9,
             "#4d9221"
            ],
            [
             1,
             "#276419"
            ]
           ],
           "sequential": [
            [
             0,
             "#0d0887"
            ],
            [
             0.1111111111111111,
             "#46039f"
            ],
            [
             0.2222222222222222,
             "#7201a8"
            ],
            [
             0.3333333333333333,
             "#9c179e"
            ],
            [
             0.4444444444444444,
             "#bd3786"
            ],
            [
             0.5555555555555556,
             "#d8576b"
            ],
            [
             0.6666666666666666,
             "#ed7953"
            ],
            [
             0.7777777777777778,
             "#fb9f3a"
            ],
            [
             0.8888888888888888,
             "#fdca26"
            ],
            [
             1,
             "#f0f921"
            ]
           ],
           "sequentialminus": [
            [
             0,
             "#0d0887"
            ],
            [
             0.1111111111111111,
             "#46039f"
            ],
            [
             0.2222222222222222,
             "#7201a8"
            ],
            [
             0.3333333333333333,
             "#9c179e"
            ],
            [
             0.4444444444444444,
             "#bd3786"
            ],
            [
             0.5555555555555556,
             "#d8576b"
            ],
            [
             0.6666666666666666,
             "#ed7953"
            ],
            [
             0.7777777777777778,
             "#fb9f3a"
            ],
            [
             0.8888888888888888,
             "#fdca26"
            ],
            [
             1,
             "#f0f921"
            ]
           ]
          },
          "colorway": [
           "#636efa",
           "#EF553B",
           "#00cc96",
           "#ab63fa",
           "#FFA15A",
           "#19d3f3",
           "#FF6692",
           "#B6E880",
           "#FF97FF",
           "#FECB52"
          ],
          "font": {
           "color": "#2a3f5f"
          },
          "geo": {
           "bgcolor": "white",
           "lakecolor": "white",
           "landcolor": "#E5ECF6",
           "showlakes": true,
           "showland": true,
           "subunitcolor": "white"
          },
          "hoverlabel": {
           "align": "left"
          },
          "hovermode": "closest",
          "mapbox": {
           "style": "light"
          },
          "paper_bgcolor": "white",
          "plot_bgcolor": "#E5ECF6",
          "polar": {
           "angularaxis": {
            "gridcolor": "white",
            "linecolor": "white",
            "ticks": ""
           },
           "bgcolor": "#E5ECF6",
           "radialaxis": {
            "gridcolor": "white",
            "linecolor": "white",
            "ticks": ""
           }
          },
          "scene": {
           "xaxis": {
            "backgroundcolor": "#E5ECF6",
            "gridcolor": "white",
            "gridwidth": 2,
            "linecolor": "white",
            "showbackground": true,
            "ticks": "",
            "zerolinecolor": "white"
           },
           "yaxis": {
            "backgroundcolor": "#E5ECF6",
            "gridcolor": "white",
            "gridwidth": 2,
            "linecolor": "white",
            "showbackground": true,
            "ticks": "",
            "zerolinecolor": "white"
           },
           "zaxis": {
            "backgroundcolor": "#E5ECF6",
            "gridcolor": "white",
            "gridwidth": 2,
            "linecolor": "white",
            "showbackground": true,
            "ticks": "",
            "zerolinecolor": "white"
           }
          },
          "shapedefaults": {
           "line": {
            "color": "#2a3f5f"
           }
          },
          "ternary": {
           "aaxis": {
            "gridcolor": "white",
            "linecolor": "white",
            "ticks": ""
           },
           "baxis": {
            "gridcolor": "white",
            "linecolor": "white",
            "ticks": ""
           },
           "bgcolor": "#E5ECF6",
           "caxis": {
            "gridcolor": "white",
            "linecolor": "white",
            "ticks": ""
           }
          },
          "title": {
           "x": 0.05
          },
          "xaxis": {
           "automargin": true,
           "gridcolor": "white",
           "linecolor": "white",
           "ticks": "",
           "title": {
            "standoff": 15
           },
           "zerolinecolor": "white",
           "zerolinewidth": 2
          },
          "yaxis": {
           "automargin": true,
           "gridcolor": "white",
           "linecolor": "white",
           "ticks": "",
           "title": {
            "standoff": 15
           },
           "zerolinecolor": "white",
           "zerolinewidth": 2
          }
         }
        }
       }
      },
      "text/html": [
       "<div>\n",
       "        \n",
       "        \n",
       "            <div id=\"0cab94a8-b1c8-46e0-92d7-73c4e262aad7\" class=\"plotly-graph-div\" style=\"height:525px; width:100%;\"></div>\n",
       "            <script type=\"text/javascript\">\n",
       "                require([\"plotly\"], function(Plotly) {\n",
       "                    window.PLOTLYENV=window.PLOTLYENV || {};\n",
       "                    \n",
       "                if (document.getElementById(\"0cab94a8-b1c8-46e0-92d7-73c4e262aad7\")) {\n",
       "                    Plotly.newPlot(\n",
       "                        '0cab94a8-b1c8-46e0-92d7-73c4e262aad7',\n",
       "                        [{\"hovertemplate\": \"<b>%{hovertext}</b><br><br>member_casual=casual<br>count=%{marker.size}<br>start_lat=%{lat}<br>start_lng=%{lon}<extra></extra>\", \"hovertext\": [\"Streeter Dr & Grand Ave\", \"Lake Shore Dr & Monroe St\", \"Millennium Park\", \"Theater on the Lake\", \"Indiana Ave & Roosevelt Rd\", \"Michigan Ave & Oak St\", \"Lake Shore Dr & North Blvd\", \"Clark St & Elm St\", \"Michigan Ave & Lake St\", \"Michigan Ave & Washington St\", \"Clark St & Lincoln Ave\", \"Buckingham Fountain\", \"Wells St & Concord Ln\", \"Clark St & Armitage Ave\", \"Shedd Aquarium\", \"Michigan Ave & 8th St\", \"Wabash Ave & Grand Ave\", \"Columbus Dr & Randolph St\", \"Wells St & Elm St\", \"Fairbanks Ct & Grand Ave\", \"Lake Shore Dr & Wellington Ave\", \"Wabash Ave & Roosevelt Rd\", \"Wells St & Evergreen Ave\", \"Lake Shore Dr & Belmont Ave\", \"Lakeview Ave & Fullerton Pkwy\"], \"lat\": [41.892278, 41.880958, 41.8810317, 41.926277, 41.867888, 41.90096039, 41.911722, 41.902677833333335, 41.886024, 41.8839840647265, 41.915689, 41.87651122881695, 41.912133, 41.91828533333333, 41.86722595682, 41.872773, 41.891466, 41.884728, 41.90306983333333, 41.89184737210993, 41.9366884494997, 41.867227, 41.90674916666666, 41.940775, 41.925858], \"legendgroup\": \"casual\", \"lon\": [-87.612043, -87.616743, -87.62408432, -87.630834, -87.623041, -87.62377664, -87.626804, -87.63167733333333, -87.624117, -87.6246839761734, -87.6346, -87.62054800987242, -87.634656, -87.6363365, -87.6153553902, -87.623981, -87.626761, -87.619521, -87.63461016666666, -87.62058019638062, -87.63682901859283, -87.625961, -87.63517133333333, -87.639192, -87.638973], \"marker\": {\"color\": \"#636efa\", \"opacity\": 0.7, \"size\": [25975, 20469, 19236, 14837, 13488, 13482, 13197, 11819, 11589, 10566, 10042, 9965, 9878, 9733, 9721, 9634, 9632, 9332, 9083, 8928, 8695, 8685, 8681, 8666, 8481], \"sizemode\": \"area\", \"sizeref\": 64.9375}, \"mode\": \"markers\", \"name\": \"casual\", \"showlegend\": true, \"subplot\": \"mapbox\", \"type\": \"scattermapbox\"}, {\"hovertemplate\": \"<b>%{hovertext}</b><br><br>member_casual=member<br>count=%{marker.size}<br>start_lat=%{lat}<br>start_lng=%{lon}<extra></extra>\", \"hovertext\": [\"Clark St & Elm St\", \"Broadway & Barry Ave\", \"St. Clair St & Erie St\", \"Dearborn St & Erie St\", \"Wells St & Concord Ln\", \"Theater on the Lake\", \"Kingsbury St & Kinzie St\", \"Wells St & Huron St\", \"Wells St & Elm St\", \"Clark St & Armitage Ave\", \"Lake Shore Dr & North Blvd\", \"Desplaines St & Kinzie St\", \"Lake Shore Dr & Wellington Ave\", \"Columbus Dr & Randolph St\", \"Larrabee St & Webster Ave\", \"Clark St & Schiller St\", \"Clark St & Lincoln Ave\", \"Broadway & Cornelia Ave\", \"Dearborn Pkwy & Delaware Pl\", \"Wabash Ave & Grand Ave\", \"Wabash Ave & Roosevelt Rd\", \"Kingsbury St & Erie St\", \"Clark St & Drummond Pl\", \"Broadway & Waveland Ave\", \"Clark St & Wrightwood Ave\"], \"lat\": [41.902677833333335, 41.93758231600629, 41.89434513742426, 41.893992, 41.912133, 41.926277, 41.88917683258, 41.894722, 41.90306983333333, 41.91828533333333, 41.911722, 41.888716036, 41.9366884494997, 41.884728, 41.921822, 41.907993, 41.915689, 41.9455185, 41.898969, 41.891466, 41.867227, 41.89380805624359, 41.931248, 41.949074, 41.929546], \"legendgroup\": \"member\", \"lon\": [-87.63167733333333, -87.6440978050232, -87.62279838323593, -87.629318, -87.634656, -87.630834, -87.6385057718, -87.634362, -87.63461016666666, -87.6363365, -87.626804, -87.6444478533, -87.63682901859283, -87.619521, -87.64414, -87.631501, -87.6346, -87.646457, -87.629912, -87.626761, -87.625961, -87.64169722795485, -87.644336, -87.648636, -87.643118], \"marker\": {\"color\": \"#EF553B\", \"opacity\": 0.7, \"size\": [20005, 15541, 15174, 15069, 14836, 14516, 14049, 13864, 13815, 13717, 13530, 13454, 12537, 12270, 12215, 12076, 12046, 11908, 11738, 11547, 11485, 11156, 10986, 10959, 10818], \"sizemode\": \"area\", \"sizeref\": 64.9375}, \"mode\": \"markers\", \"name\": \"member\", \"showlegend\": true, \"subplot\": \"mapbox\", \"type\": \"scattermapbox\"}],\n",
       "                        {\"legend\": {\"itemsizing\": \"constant\", \"title\": {\"text\": \"member_casual\"}, \"tracegroupgap\": 0}, \"mapbox\": {\"center\": {\"lat\": 41.90382607312788, \"lon\": -87.63125593888917}, \"domain\": {\"x\": [0.0, 1.0], \"y\": [0.0, 1.0]}, \"style\": \"open-street-map\", \"zoom\": 8}, \"margin\": {\"t\": 60}, \"template\": {\"data\": {\"bar\": [{\"error_x\": {\"color\": \"#2a3f5f\"}, \"error_y\": {\"color\": \"#2a3f5f\"}, \"marker\": {\"line\": {\"color\": \"#E5ECF6\", \"width\": 0.5}}, \"type\": \"bar\"}], \"barpolar\": [{\"marker\": {\"line\": {\"color\": \"#E5ECF6\", \"width\": 0.5}}, \"type\": \"barpolar\"}], \"carpet\": [{\"aaxis\": {\"endlinecolor\": \"#2a3f5f\", \"gridcolor\": \"white\", \"linecolor\": \"white\", \"minorgridcolor\": \"white\", \"startlinecolor\": \"#2a3f5f\"}, \"baxis\": {\"endlinecolor\": \"#2a3f5f\", \"gridcolor\": \"white\", \"linecolor\": \"white\", \"minorgridcolor\": \"white\", \"startlinecolor\": \"#2a3f5f\"}, \"type\": \"carpet\"}], \"choropleth\": [{\"colorbar\": {\"outlinewidth\": 0, \"ticks\": \"\"}, \"type\": \"choropleth\"}], \"contour\": [{\"colorbar\": {\"outlinewidth\": 0, \"ticks\": \"\"}, \"colorscale\": [[0.0, \"#0d0887\"], [0.1111111111111111, \"#46039f\"], [0.2222222222222222, \"#7201a8\"], [0.3333333333333333, \"#9c179e\"], [0.4444444444444444, \"#bd3786\"], [0.5555555555555556, \"#d8576b\"], [0.6666666666666666, \"#ed7953\"], [0.7777777777777778, \"#fb9f3a\"], [0.8888888888888888, \"#fdca26\"], [1.0, \"#f0f921\"]], \"type\": \"contour\"}], \"contourcarpet\": [{\"colorbar\": {\"outlinewidth\": 0, \"ticks\": \"\"}, \"type\": \"contourcarpet\"}], \"heatmap\": [{\"colorbar\": {\"outlinewidth\": 0, \"ticks\": \"\"}, \"colorscale\": [[0.0, \"#0d0887\"], [0.1111111111111111, \"#46039f\"], [0.2222222222222222, \"#7201a8\"], [0.3333333333333333, \"#9c179e\"], [0.4444444444444444, \"#bd3786\"], [0.5555555555555556, \"#d8576b\"], [0.6666666666666666, \"#ed7953\"], [0.7777777777777778, \"#fb9f3a\"], [0.8888888888888888, \"#fdca26\"], [1.0, \"#f0f921\"]], \"type\": \"heatmap\"}], \"heatmapgl\": [{\"colorbar\": {\"outlinewidth\": 0, \"ticks\": \"\"}, \"colorscale\": [[0.0, \"#0d0887\"], [0.1111111111111111, \"#46039f\"], [0.2222222222222222, \"#7201a8\"], [0.3333333333333333, \"#9c179e\"], [0.4444444444444444, \"#bd3786\"], [0.5555555555555556, \"#d8576b\"], [0.6666666666666666, \"#ed7953\"], [0.7777777777777778, \"#fb9f3a\"], [0.8888888888888888, \"#fdca26\"], [1.0, \"#f0f921\"]], \"type\": \"heatmapgl\"}], \"histogram\": [{\"marker\": {\"colorbar\": {\"outlinewidth\": 0, \"ticks\": \"\"}}, \"type\": \"histogram\"}], \"histogram2d\": [{\"colorbar\": {\"outlinewidth\": 0, \"ticks\": \"\"}, \"colorscale\": [[0.0, \"#0d0887\"], [0.1111111111111111, \"#46039f\"], [0.2222222222222222, \"#7201a8\"], [0.3333333333333333, \"#9c179e\"], [0.4444444444444444, \"#bd3786\"], [0.5555555555555556, \"#d8576b\"], [0.6666666666666666, \"#ed7953\"], [0.7777777777777778, \"#fb9f3a\"], [0.8888888888888888, \"#fdca26\"], [1.0, \"#f0f921\"]], \"type\": \"histogram2d\"}], \"histogram2dcontour\": [{\"colorbar\": {\"outlinewidth\": 0, \"ticks\": \"\"}, \"colorscale\": [[0.0, \"#0d0887\"], [0.1111111111111111, \"#46039f\"], [0.2222222222222222, \"#7201a8\"], [0.3333333333333333, \"#9c179e\"], [0.4444444444444444, \"#bd3786\"], [0.5555555555555556, \"#d8576b\"], [0.6666666666666666, \"#ed7953\"], [0.7777777777777778, \"#fb9f3a\"], [0.8888888888888888, \"#fdca26\"], [1.0, \"#f0f921\"]], \"type\": \"histogram2dcontour\"}], \"mesh3d\": [{\"colorbar\": {\"outlinewidth\": 0, \"ticks\": \"\"}, \"type\": \"mesh3d\"}], \"parcoords\": [{\"line\": {\"colorbar\": {\"outlinewidth\": 0, \"ticks\": \"\"}}, \"type\": \"parcoords\"}], \"pie\": [{\"automargin\": true, \"type\": \"pie\"}], \"scatter\": [{\"marker\": {\"colorbar\": {\"outlinewidth\": 0, \"ticks\": \"\"}}, \"type\": \"scatter\"}], \"scatter3d\": [{\"line\": {\"colorbar\": {\"outlinewidth\": 0, \"ticks\": \"\"}}, \"marker\": {\"colorbar\": {\"outlinewidth\": 0, \"ticks\": \"\"}}, \"type\": \"scatter3d\"}], \"scattercarpet\": [{\"marker\": {\"colorbar\": {\"outlinewidth\": 0, \"ticks\": \"\"}}, \"type\": \"scattercarpet\"}], \"scattergeo\": [{\"marker\": {\"colorbar\": {\"outlinewidth\": 0, \"ticks\": \"\"}}, \"type\": \"scattergeo\"}], \"scattergl\": [{\"marker\": {\"colorbar\": {\"outlinewidth\": 0, \"ticks\": \"\"}}, \"type\": \"scattergl\"}], \"scattermapbox\": [{\"marker\": {\"colorbar\": {\"outlinewidth\": 0, \"ticks\": \"\"}}, \"type\": \"scattermapbox\"}], \"scatterpolar\": [{\"marker\": {\"colorbar\": {\"outlinewidth\": 0, \"ticks\": \"\"}}, \"type\": \"scatterpolar\"}], \"scatterpolargl\": [{\"marker\": {\"colorbar\": {\"outlinewidth\": 0, \"ticks\": \"\"}}, \"type\": \"scatterpolargl\"}], \"scatterternary\": [{\"marker\": {\"colorbar\": {\"outlinewidth\": 0, \"ticks\": \"\"}}, \"type\": \"scatterternary\"}], \"surface\": [{\"colorbar\": {\"outlinewidth\": 0, \"ticks\": \"\"}, \"colorscale\": [[0.0, \"#0d0887\"], [0.1111111111111111, \"#46039f\"], [0.2222222222222222, \"#7201a8\"], [0.3333333333333333, \"#9c179e\"], [0.4444444444444444, \"#bd3786\"], [0.5555555555555556, \"#d8576b\"], [0.6666666666666666, \"#ed7953\"], [0.7777777777777778, \"#fb9f3a\"], [0.8888888888888888, \"#fdca26\"], [1.0, \"#f0f921\"]], \"type\": \"surface\"}], \"table\": [{\"cells\": {\"fill\": {\"color\": \"#EBF0F8\"}, \"line\": {\"color\": \"white\"}}, \"header\": {\"fill\": {\"color\": \"#C8D4E3\"}, \"line\": {\"color\": \"white\"}}, \"type\": \"table\"}]}, \"layout\": {\"annotationdefaults\": {\"arrowcolor\": \"#2a3f5f\", \"arrowhead\": 0, \"arrowwidth\": 1}, \"coloraxis\": {\"colorbar\": {\"outlinewidth\": 0, \"ticks\": \"\"}}, \"colorscale\": {\"diverging\": [[0, \"#8e0152\"], [0.1, \"#c51b7d\"], [0.2, \"#de77ae\"], [0.3, \"#f1b6da\"], [0.4, \"#fde0ef\"], [0.5, \"#f7f7f7\"], [0.6, \"#e6f5d0\"], [0.7, \"#b8e186\"], [0.8, \"#7fbc41\"], [0.9, \"#4d9221\"], [1, \"#276419\"]], \"sequential\": [[0.0, \"#0d0887\"], [0.1111111111111111, \"#46039f\"], [0.2222222222222222, \"#7201a8\"], [0.3333333333333333, \"#9c179e\"], [0.4444444444444444, \"#bd3786\"], [0.5555555555555556, \"#d8576b\"], [0.6666666666666666, \"#ed7953\"], [0.7777777777777778, \"#fb9f3a\"], [0.8888888888888888, \"#fdca26\"], [1.0, \"#f0f921\"]], \"sequentialminus\": [[0.0, \"#0d0887\"], [0.1111111111111111, \"#46039f\"], [0.2222222222222222, \"#7201a8\"], [0.3333333333333333, \"#9c179e\"], [0.4444444444444444, \"#bd3786\"], [0.5555555555555556, \"#d8576b\"], [0.6666666666666666, \"#ed7953\"], [0.7777777777777778, \"#fb9f3a\"], [0.8888888888888888, \"#fdca26\"], [1.0, \"#f0f921\"]]}, \"colorway\": [\"#636efa\", \"#EF553B\", \"#00cc96\", \"#ab63fa\", \"#FFA15A\", \"#19d3f3\", \"#FF6692\", \"#B6E880\", \"#FF97FF\", \"#FECB52\"], \"font\": {\"color\": \"#2a3f5f\"}, \"geo\": {\"bgcolor\": \"white\", \"lakecolor\": \"white\", \"landcolor\": \"#E5ECF6\", \"showlakes\": true, \"showland\": true, \"subunitcolor\": \"white\"}, \"hoverlabel\": {\"align\": \"left\"}, \"hovermode\": \"closest\", \"mapbox\": {\"style\": \"light\"}, \"paper_bgcolor\": \"white\", \"plot_bgcolor\": \"#E5ECF6\", \"polar\": {\"angularaxis\": {\"gridcolor\": \"white\", \"linecolor\": \"white\", \"ticks\": \"\"}, \"bgcolor\": \"#E5ECF6\", \"radialaxis\": {\"gridcolor\": \"white\", \"linecolor\": \"white\", \"ticks\": \"\"}}, \"scene\": {\"xaxis\": {\"backgroundcolor\": \"#E5ECF6\", \"gridcolor\": \"white\", \"gridwidth\": 2, \"linecolor\": \"white\", \"showbackground\": true, \"ticks\": \"\", \"zerolinecolor\": \"white\"}, \"yaxis\": {\"backgroundcolor\": \"#E5ECF6\", \"gridcolor\": \"white\", \"gridwidth\": 2, \"linecolor\": \"white\", \"showbackground\": true, \"ticks\": \"\", \"zerolinecolor\": \"white\"}, \"zaxis\": {\"backgroundcolor\": \"#E5ECF6\", \"gridcolor\": \"white\", \"gridwidth\": 2, \"linecolor\": \"white\", \"showbackground\": true, \"ticks\": \"\", \"zerolinecolor\": \"white\"}}, \"shapedefaults\": {\"line\": {\"color\": \"#2a3f5f\"}}, \"ternary\": {\"aaxis\": {\"gridcolor\": \"white\", \"linecolor\": \"white\", \"ticks\": \"\"}, \"baxis\": {\"gridcolor\": \"white\", \"linecolor\": \"white\", \"ticks\": \"\"}, \"bgcolor\": \"#E5ECF6\", \"caxis\": {\"gridcolor\": \"white\", \"linecolor\": \"white\", \"ticks\": \"\"}}, \"title\": {\"x\": 0.05}, \"xaxis\": {\"automargin\": true, \"gridcolor\": \"white\", \"linecolor\": \"white\", \"ticks\": \"\", \"title\": {\"standoff\": 15}, \"zerolinecolor\": \"white\", \"zerolinewidth\": 2}, \"yaxis\": {\"automargin\": true, \"gridcolor\": \"white\", \"linecolor\": \"white\", \"ticks\": \"\", \"title\": {\"standoff\": 15}, \"zerolinecolor\": \"white\", \"zerolinewidth\": 2}}}},\n",
       "                        {\"responsive\": true}\n",
       "                    ).then(function(){\n",
       "                            \n",
       "var gd = document.getElementById('0cab94a8-b1c8-46e0-92d7-73c4e262aad7');\n",
       "var x = new MutationObserver(function (mutations, observer) {{\n",
       "        var display = window.getComputedStyle(gd).display;\n",
       "        if (!display || display === 'none') {{\n",
       "            console.log([gd, 'removed!']);\n",
       "            Plotly.purge(gd);\n",
       "            observer.disconnect();\n",
       "        }}\n",
       "}});\n",
       "\n",
       "// Listen for the removal of the full notebook cells\n",
       "var notebookContainer = gd.closest('#notebook-container');\n",
       "if (notebookContainer) {{\n",
       "    x.observe(notebookContainer, {childList: true});\n",
       "}}\n",
       "\n",
       "// Listen for the clearing of the current output cell\n",
       "var outputEl = gd.closest('.output');\n",
       "if (outputEl) {{\n",
       "    x.observe(outputEl, {childList: true});\n",
       "}}\n",
       "\n",
       "                        })\n",
       "                };\n",
       "                });\n",
       "            </script>\n",
       "        </div>"
      ]
     },
     "metadata": {},
     "output_type": "display_data"
    }
   ],
   "source": [
    "# Create a map with locations of top 25 stations by group\n",
    "\n",
    "fig = px.scatter_mapbox(df_geomap, hover_name='start_station_name', lat=df_geomap.start_lat, lon=\"start_lng\", opacity=0.7, color=\"member_casual\", size='count')\n",
    "fig.update_layout(mapbox_style=\"open-street-map\")\n",
    "fig.show()"
   ]
  },
  {
   "cell_type": "markdown",
   "metadata": {},
   "source": [
    "It is interesting to note that the vast majority of popular member stations are North of the city. The popular casual rider stations are spread more evenly North to South but not West."
   ]
  },
  {
   "cell_type": "markdown",
   "metadata": {},
   "source": [
    "This could indicate patterns in the commuters versus riders that are starting at desination spots. It would be interesting to understand why more members are in the North and West Chicago. "
   ]
  },
  {
   "cell_type": "code",
   "execution_count": 79,
   "metadata": {},
   "outputs": [],
   "source": [
    "df.to_csv('bikeshare.csv')\n"
   ]
  },
  {
   "cell_type": "code",
   "execution_count": null,
   "metadata": {},
   "outputs": [],
   "source": []
  }
 ],
 "metadata": {
  "kernelspec": {
   "display_name": "Python 3",
   "language": "python",
   "name": "python3"
  },
  "language_info": {
   "codemirror_mode": {
    "name": "ipython",
    "version": 3
   },
   "file_extension": ".py",
   "mimetype": "text/x-python",
   "name": "python",
   "nbconvert_exporter": "python",
   "pygments_lexer": "ipython3",
   "version": "3.7.7"
  }
 },
 "nbformat": 4,
 "nbformat_minor": 4
}
